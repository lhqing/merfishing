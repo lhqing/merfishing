{
 "cells": [
  {
   "cell_type": "markdown",
   "id": "7a784e82",
   "metadata": {
    "pycharm": {
     "name": "#%% md\n"
    }
   },
   "source": [
    "# Archive MERFISH Experiment\n",
    "\n",
    "## Archive steps\n",
    "1. Prepare a tar.gz file for single MERFISH experiment\n",
    "2. Compress active csv files\n",
    "3. Save transcripts in HDF5 format\n",
    "4. Save TIFF image in zarr format with proper chunks\n",
    "5. After successful archive, delete the original raw data files."
   ]
  },
  {
   "cell_type": "markdown",
   "id": "5a3bbe1d",
   "metadata": {
    "pycharm": {
     "name": "#%% md\n"
    }
   },
   "source": [
    "## Archive Process"
   ]
  },
  {
   "cell_type": "code",
   "execution_count": 1,
   "id": "b49c95f6",
   "metadata": {
    "ExecuteTime": {
     "end_time": "2022-08-02T07:33:45.571789Z",
     "start_time": "2022-08-02T07:33:41.553393Z"
    },
    "pycharm": {
     "name": "#%%\n"
    }
   },
   "outputs": [],
   "source": [
    "from merfishing import ArchiveMerfishExperiment"
   ]
  },
  {
   "cell_type": "code",
   "execution_count": 2,
   "id": "45ca494d",
   "metadata": {
    "ExecuteTime": {
     "end_time": "2022-08-02T07:33:45.581846Z",
     "start_time": "2022-08-02T07:33:45.577902Z"
    },
    "pycharm": {
     "name": "#%%\n"
    }
   },
   "outputs": [],
   "source": [
    "# this is a small test dataset\n",
    "experiment_dir = 'dummy_experiment/'"
   ]
  },
  {
   "cell_type": "markdown",
   "id": "bda67b46",
   "metadata": {
    "pycharm": {
     "name": "#%% md\n"
    }
   },
   "source": [
    "```{caution}\n",
    "The code below will instantly start archive process, data in the experiment_dir will be modified.\n",
    "```"
   ]
  },
  {
   "cell_type": "code",
   "execution_count": 3,
   "id": "1033f0a1",
   "metadata": {
    "ExecuteTime": {
     "end_time": "2022-08-02T07:33:48.372565Z",
     "start_time": "2022-08-02T07:33:45.586706Z"
    },
    "pycharm": {
     "name": "#%%\n"
    }
   },
   "outputs": [
    {
     "name": "stdout",
     "output_type": "stream",
     "text": [
      "dummy_experiment: Archive Raw and Output Data: /gale/netapp/cemba3c/merfish/example/dummy_experiment/dummy_experiment.tar.gz\n",
      "/gale/netapp/cemba3c/merfish/example/dummy_experiment/output/region_0 does not contain cellpose results or the results are incomplete, using watershed results from vizgen pipeline instead.\n",
      "region_0: Converted TIF files to Zarr\n",
      "region_0: Saved transcripts to HDF5\n",
      "region_0: Compressed vizgen output\n",
      "dummy_experiment: Deleted raw data\n"
     ]
    },
    {
     "data": {
      "text/plain": [
       "<merfishing.core.archive_data.ArchiveMerfishExperiment at 0x7f62a86062e0>"
      ]
     },
     "execution_count": 3,
     "metadata": {},
     "output_type": "execute_result"
    }
   ],
   "source": [
    "# This step take ~16 hours to run on a real 500-gene 1cm2 experiment\n",
    "ArchiveMerfishExperiment(experiment_dir)"
   ]
  },
  {
   "cell_type": "markdown",
   "id": "0267f4f3",
   "metadata": {
    "pycharm": {
     "name": "#%% md\n"
    }
   },
   "source": [
    "## After Archive Process Finished"
   ]
  },
  {
   "cell_type": "markdown",
   "id": "c8925e29",
   "metadata": {
    "pycharm": {
     "name": "#%% md\n"
    }
   },
   "source": [
    "The archive code above will generate a tar.gz file located in `{experiment_dir}/{experiment_name}.tar.gz`. Archive this file for long term data storage.\n",
    "\n",
    "```{important}\n",
    "Once the `tar.gz` file is successfully generated, the raw data will be deleted automatically to save space. Make sure you archive the `tar.gz` file properly.\n",
    "```\n"
   ]
  }
 ],
 "metadata": {
  "hide_input": false,
  "kernelspec": {
   "display_name": "Python 3 (ipykernel)",
   "language": "python",
   "name": "python3"
  },
  "language_info": {
   "codemirror_mode": {
    "name": "ipython",
    "version": 3
   },
   "file_extension": ".py",
   "mimetype": "text/x-python",
   "name": "python",
   "nbconvert_exporter": "python",
   "pygments_lexer": "ipython3",
   "version": "3.8.13"
  },
  "toc": {
   "base_numbering": 1,
   "nav_menu": {},
   "number_sections": true,
   "sideBar": true,
   "skip_h1_title": true,
   "title_cell": "Table of Contents",
   "title_sidebar": "Contents",
   "toc_cell": false,
   "toc_position": {},
   "toc_section_display": true,
   "toc_window_display": true
  }
 },
 "nbformat": 4,
 "nbformat_minor": 5
}