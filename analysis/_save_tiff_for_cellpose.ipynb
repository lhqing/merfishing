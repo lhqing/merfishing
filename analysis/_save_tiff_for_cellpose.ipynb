{
 "cells": [
  {
   "cell_type": "code",
   "execution_count": null,
   "id": "44197902",
   "metadata": {
    "ExecuteTime": {
     "end_time": "2022-08-03T00:20:57.310908Z",
     "start_time": "2022-08-03T00:20:56.055495Z"
    },
    "execution": {
     "iopub.execute_input": "2022-08-29T06:35:22.859172Z",
     "iopub.status.busy": "2022-08-29T06:35:22.858691Z",
     "iopub.status.idle": "2022-08-29T06:35:24.687444Z",
     "shell.execute_reply": "2022-08-29T06:35:24.686485Z",
     "shell.execute_reply.started": "2022-08-29T06:35:22.859097Z"
    }
   },
   "outputs": [],
   "source": [
    "from merfishing import Merfish\n",
    "import tifffile\n",
    "import matplotlib.pyplot as plt\n",
    "import numpy as np\n",
    "import pandas as pd"
   ]
  },
  {
   "cell_type": "code",
   "execution_count": null,
   "id": "847666ae",
   "metadata": {
    "ExecuteTime": {
     "end_time": "2022-08-03T00:20:57.327985Z",
     "start_time": "2022-08-03T00:20:57.313527Z"
    },
    "execution": {
     "iopub.execute_input": "2022-08-29T06:35:50.958751Z",
     "iopub.status.busy": "2022-08-29T06:35:50.958131Z",
     "iopub.status.idle": "2022-08-29T06:35:50.978732Z",
     "shell.execute_reply": "2022-08-29T06:35:50.978134Z",
     "shell.execute_reply.started": "2022-08-29T06:35:50.958727Z"
    }
   },
   "outputs": [],
   "source": [
    "merfish = Merfish('/home/qz/hanliu/cemba3c/merfish/202208121423_MouseSagittalM3S2_VMSC01101/output/region_0/')"
   ]
  },
  {
   "cell_type": "code",
   "execution_count": null,
   "id": "b903eb18",
   "metadata": {
    "ExecuteTime": {
     "end_time": "2022-08-03T00:20:57.487825Z",
     "start_time": "2022-08-03T00:20:57.358508Z"
    },
    "execution": {
     "iopub.execute_input": "2022-08-29T06:35:55.828454Z",
     "iopub.status.busy": "2022-08-29T06:35:55.828051Z",
     "iopub.status.idle": "2022-08-29T06:35:55.957125Z",
     "shell.execute_reply": "2022-08-29T06:35:55.956179Z",
     "shell.execute_reply.started": "2022-08-29T06:35:55.828433Z"
    }
   },
   "outputs": [],
   "source": [
    "!mkdir tiff"
   ]
  },
  {
   "cell_type": "code",
   "execution_count": null,
   "id": "468d0af6",
   "metadata": {
    "ExecuteTime": {
     "end_time": "2022-08-03T00:20:57.506490Z",
     "start_time": "2022-08-03T00:20:57.490337Z"
    },
    "execution": {
     "iopub.execute_input": "2022-08-29T06:35:58.908561Z",
     "iopub.status.busy": "2022-08-29T06:35:58.908180Z",
     "iopub.status.idle": "2022-08-29T06:35:58.933322Z",
     "shell.execute_reply": "2022-08-29T06:35:58.932757Z",
     "shell.execute_reply.started": "2022-08-29T06:35:58.908536Z"
    }
   },
   "outputs": [],
   "source": [
    "fov_ids = pd.Series(merfish.fov_ids)"
   ]
  },
  {
   "cell_type": "code",
   "execution_count": null,
   "id": "5d3ea9f8",
   "metadata": {
    "ExecuteTime": {
     "end_time": "2022-08-03T00:20:57.637531Z",
     "start_time": "2022-08-03T00:20:57.633142Z"
    },
    "execution": {
     "iopub.execute_input": "2022-08-29T06:35:59.609291Z",
     "iopub.status.busy": "2022-08-29T06:35:59.608689Z",
     "iopub.status.idle": "2022-08-29T06:35:59.614856Z",
     "shell.execute_reply": "2022-08-29T06:35:59.614280Z",
     "shell.execute_reply.started": "2022-08-29T06:35:59.609271Z"
    }
   },
   "outputs": [],
   "source": [
    "n_test = 10\n",
    "n_train = 100\n",
    "test_fov = fov_ids.sample(n_test, random_state=0).values\n",
    "train_fov = fov_ids[~fov_ids.isin(test_fov)].sample(n_train, random_state=0).values"
   ]
  },
  {
   "cell_type": "code",
   "execution_count": null,
   "id": "49a5c946",
   "metadata": {
    "ExecuteTime": {
     "end_time": "2022-08-03T00:35:17.319826Z",
     "start_time": "2022-08-03T00:34:30.761673Z"
    },
    "execution": {
     "iopub.execute_input": "2022-08-29T06:36:00.477277Z",
     "iopub.status.busy": "2022-08-29T06:36:00.477018Z",
     "iopub.status.idle": "2022-08-29T06:36:10.851801Z",
     "shell.execute_reply": "2022-08-29T06:36:10.850802Z",
     "shell.execute_reply.started": "2022-08-29T06:36:00.477259Z"
    }
   },
   "outputs": [],
   "source": [
    "for fov in test_fov:\n",
    "    name = 'PolyT++DAPI'  # R+G+B\n",
    "    z = np.random.choice(range(7), 1)[0]\n",
    "    img = merfish.get_rgb_image(name=name, z=z, fov=fov)\n",
    "    tifffile.imwrite(f'tiff/test/test-{fov}-{z}.tiff', img, compression='ZSTD')"
   ]
  },
  {
   "cell_type": "code",
   "execution_count": null,
   "id": "9e44045e",
   "metadata": {
    "ExecuteTime": {
     "end_time": "2022-08-03T00:34:30.757933Z",
     "start_time": "2022-08-03T00:21:03.262934Z"
    },
    "execution": {
     "iopub.status.busy": "2022-08-29T06:36:10.852542Z",
     "iopub.status.idle": "2022-08-29T06:36:10.852806Z",
     "shell.execute_reply": "2022-08-29T06:36:10.852685Z",
     "shell.execute_reply.started": "2022-08-29T06:36:10.852673Z"
    }
   },
   "outputs": [],
   "source": [
    "for fov in train_fov:\n",
    "    name = 'PolyT++DAPI'  # R+G+B\n",
    "    z = np.random.choice(range(7), 1)[0]\n",
    "    img = merfish.get_rgb_image(name=name, z=z, fov=fov)\n",
    "    tifffile.imwrite(f'tiff/train/train-{fov}-{z}.tiff', img, compression='ZSTD')"
   ]
  },
  {
   "cell_type": "code",
   "execution_count": null,
   "id": "abd58e2a",
   "metadata": {},
   "outputs": [],
   "source": []
  },
  {
   "cell_type": "code",
   "execution_count": null,
   "id": "5bfd141f",
   "metadata": {},
   "outputs": [],
   "source": []
  }
 ],
 "metadata": {
  "hide_input": false,
  "kernelspec": {
   "display_name": "Python 3 (ipykernel)",
   "language": "python",
   "name": "python3"
  },
  "language_info": {
   "codemirror_mode": {
    "name": "ipython",
    "version": 3
   },
   "file_extension": ".py",
   "mimetype": "text/x-python",
   "name": "python",
   "nbconvert_exporter": "python",
   "pygments_lexer": "ipython3",
   "version": "3.10.6"
  },
  "toc": {
   "base_numbering": 1,
   "nav_menu": {},
   "number_sections": true,
   "sideBar": true,
   "skip_h1_title": true,
   "title_cell": "Table of Contents",
   "title_sidebar": "Contents",
   "toc_cell": false,
   "toc_position": {},
   "toc_section_display": true,
   "toc_window_display": true
  }
 },
 "nbformat": 4,
 "nbformat_minor": 5
}
