{
 "cells": [
  {
   "cell_type": "code",
   "execution_count": null,
   "id": "a31ddc5e",
   "metadata": {
    "ExecuteTime": {
     "end_time": "2022-08-02T17:24:02.747043Z",
     "start_time": "2022-08-02T17:24:01.501747Z"
    },
    "execution": {
     "iopub.execute_input": "2022-08-29T06:17:13.315478Z",
     "iopub.status.busy": "2022-08-29T06:17:13.314731Z",
     "iopub.status.idle": "2022-08-29T06:17:15.265943Z",
     "shell.execute_reply": "2022-08-29T06:17:15.265215Z",
     "shell.execute_reply.started": "2022-08-29T06:17:13.315397Z"
    },
    "tags": []
   },
   "outputs": [],
   "source": [
    "from merfishing import Merfish"
   ]
  },
  {
   "cell_type": "markdown",
   "id": "422040c2",
   "metadata": {},
   "source": [
    "## Entry Point"
   ]
  },
  {
   "cell_type": "code",
   "execution_count": null,
   "id": "b017ad04",
   "metadata": {
    "ExecuteTime": {
     "end_time": "2022-08-02T17:24:02.762259Z",
     "start_time": "2022-08-02T17:24:02.749974Z"
    },
    "execution": {
     "iopub.execute_input": "2022-08-29T06:17:23.115857Z",
     "iopub.status.busy": "2022-08-29T06:17:23.115108Z",
     "iopub.status.idle": "2022-08-29T06:17:23.155688Z",
     "shell.execute_reply": "2022-08-29T06:17:23.155057Z",
     "shell.execute_reply.started": "2022-08-29T06:17:23.115829Z"
    },
    "tags": []
   },
   "outputs": [],
   "source": [
    "merfish = Merfish('/home/qz/hanliu/cemba3c/merfish/202208121423_MouseSagittalM3S2_VMSC01101/output/region_0')"
   ]
  },
  {
   "cell_type": "markdown",
   "id": "be2a77ab",
   "metadata": {},
   "source": [
    "## Call Spots"
   ]
  },
  {
   "cell_type": "code",
   "execution_count": null,
   "id": "a97748b2",
   "metadata": {
    "ExecuteTime": {
     "end_time": "2022-08-02T17:24:04.653044Z",
     "start_time": "2022-08-02T17:24:04.648440Z"
    },
    "execution": {
     "iopub.execute_input": "2022-08-29T06:17:25.209419Z",
     "iopub.status.busy": "2022-08-29T06:17:25.209116Z",
     "iopub.status.idle": "2022-08-29T06:17:25.219016Z",
     "shell.execute_reply": "2022-08-29T06:17:25.218369Z",
     "shell.execute_reply.started": "2022-08-29T06:17:25.209398Z"
    },
    "tags": []
   },
   "outputs": [],
   "source": [
    "merfish.smfish_genes"
   ]
  },
  {
   "cell_type": "code",
   "execution_count": null,
   "id": "290c3083",
   "metadata": {
    "ExecuteTime": {
     "end_time": "2022-08-02T17:24:46.168743Z",
     "start_time": "2022-08-02T17:24:41.349555Z"
    },
    "execution": {
     "iopub.execute_input": "2022-08-29T06:17:27.857548Z",
     "iopub.status.busy": "2022-08-29T06:17:27.857273Z"
    },
    "tags": []
   },
   "outputs": [],
   "source": [
    "merfish.call_spots(\n",
    "    image_names='all',\n",
    "    cpu=15,\n",
    "    padding=50,\n",
    "    detect_dense=True,\n",
    "    projection='max',\n",
    "    verbose=False,\n",
    "    redo=False,\n",
    ")"
   ]
  },
  {
   "cell_type": "markdown",
   "id": "c63f4fb0",
   "metadata": {},
   "source": [
    "## Plot"
   ]
  },
  {
   "cell_type": "code",
   "execution_count": null,
   "id": "f9592972",
   "metadata": {
    "ExecuteTime": {
     "end_time": "2022-08-02T17:24:51.190213Z",
     "start_time": "2022-08-02T17:24:46.673453Z"
    },
    "tags": []
   },
   "outputs": [],
   "source": [
    "fig = merfish.plot_fov(\n",
    "    0,\n",
    "    n_cols=3,\n",
    "    image_names=['PolyT+Snap25+DAPI', 'PolyT', 'DAPI'] + merfish.smfish_genes, \n",
    "    genes=merfish.smfish_genes,\n",
    "    dpi=150\n",
    ")"
   ]
  },
  {
   "cell_type": "markdown",
   "id": "555313a7",
   "metadata": {},
   "source": [
    "## Transcripts"
   ]
  },
  {
   "cell_type": "code",
   "execution_count": null,
   "id": "2265e6bf",
   "metadata": {
    "ExecuteTime": {
     "end_time": "2022-08-02T17:26:19.545657Z",
     "start_time": "2022-08-02T17:26:19.430929Z"
    },
    "tags": []
   },
   "outputs": [],
   "source": [
    "transcripts = merfish.get_transcripts(fov=0)\n",
    "transcripts[transcripts['gene'].isin(merfish.smfish_genes)]"
   ]
  },
  {
   "cell_type": "markdown",
   "id": "dffae745",
   "metadata": {},
   "source": [
    "## Details - BigFish Package\n",
    "\n",
    "Spot detection is done by the bigfish package with its automatic pipeline and default parameters. Each z-plane is run separately. Please read the bigfish package for more details and fine tune the parameter if needed. You can pass the key parameters to merfish.call_spots function.\n",
    "- Github: https://github.com/fish-quant/big-fish\n",
    "- Documentation: https://big-fish.readthedocs.io/en/stable/index.html\n",
    "- Jupyter Notebook Example: https://github.com/fish-quant/big-fish-examples/tree/master/notebooks"
   ]
  },
  {
   "cell_type": "code",
   "execution_count": null,
   "id": "4efe3520",
   "metadata": {
    "ExecuteTime": {
     "end_time": "2022-08-02T17:30:31.026311Z",
     "start_time": "2022-08-02T17:30:31.023718Z"
    },
    "tags": []
   },
   "outputs": [],
   "source": [
    "from bigfish.stack import maximum_projection\n",
    "from bigfish.plot import plot_detection, plot_images\n",
    "from bigfish.detection import detect_spots"
   ]
  },
  {
   "cell_type": "code",
   "execution_count": null,
   "id": "013e0fc9",
   "metadata": {
    "ExecuteTime": {
     "end_time": "2022-08-02T17:30:57.583934Z",
     "start_time": "2022-08-02T17:30:56.473459Z"
    },
    "tags": []
   },
   "outputs": [],
   "source": [
    "image = merfish.get_image_fov('Snap25', 2)\n",
    "plot_images(maximum_projection(image), contrast=True, framesize=(3, 3))"
   ]
  },
  {
   "cell_type": "code",
   "execution_count": null,
   "id": "c9bd855d",
   "metadata": {
    "ExecuteTime": {
     "end_time": "2022-08-02T17:32:46.298940Z",
     "start_time": "2022-08-02T17:32:45.805223Z"
    },
    "tags": []
   },
   "outputs": [],
   "source": [
    "spots, threshold = detect_spots(\n",
    "    images=image[3], \n",
    "    return_threshold=True, \n",
    "    voxel_size=(103, 103),  # in nanometer (one value per dimension zyx)\n",
    "    spot_radius=(150, 150))  # in nanometer (one value per dimension zyx)\n",
    "print(\"detected spots\")\n",
    "print(\"\\r shape: {0}\".format(spots.shape))\n",
    "print(\"\\r dtype: {0}\".format(spots.dtype))\n",
    "print(\"\\r threshold: {0}\".format(threshold))"
   ]
  },
  {
   "cell_type": "code",
   "execution_count": null,
   "id": "67281776",
   "metadata": {
    "ExecuteTime": {
     "end_time": "2022-08-02T17:33:05.287429Z",
     "start_time": "2022-08-02T17:32:54.193140Z"
    },
    "tags": []
   },
   "outputs": [],
   "source": [
    "plot_detection(image[3], spots, contrast=True, framesize=(6, 6), radius=1)"
   ]
  },
  {
   "cell_type": "code",
   "execution_count": null,
   "id": "8d86d675",
   "metadata": {},
   "outputs": [],
   "source": []
  },
  {
   "cell_type": "code",
   "execution_count": null,
   "id": "011c837f",
   "metadata": {},
   "outputs": [],
   "source": []
  },
  {
   "cell_type": "code",
   "execution_count": null,
   "id": "4356dbe6",
   "metadata": {},
   "outputs": [],
   "source": []
  }
 ],
 "metadata": {
  "hide_input": false,
  "kernelspec": {
   "display_name": "Python 3 (ipykernel)",
   "language": "python",
   "name": "python3"
  },
  "language_info": {
   "codemirror_mode": {
    "name": "ipython",
    "version": 3
   },
   "file_extension": ".py",
   "mimetype": "text/x-python",
   "name": "python",
   "nbconvert_exporter": "python",
   "pygments_lexer": "ipython3",
   "version": "3.10.6"
  },
  "toc": {
   "base_numbering": 1,
   "nav_menu": {},
   "number_sections": true,
   "sideBar": true,
   "skip_h1_title": true,
   "title_cell": "Table of Contents",
   "title_sidebar": "Contents",
   "toc_cell": false,
   "toc_position": {},
   "toc_section_display": true,
   "toc_window_display": true
  }
 },
 "nbformat": 4,
 "nbformat_minor": 5
}
