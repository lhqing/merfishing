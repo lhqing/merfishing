{
 "cells": [
  {
   "cell_type": "markdown",
   "id": "7a784e82",
   "metadata": {},
   "source": [
    "# Archive MERFISH Experiment\n",
    "\n",
    "## Goal\n",
    "- Prepare a tar.gz file for single MERFISH experiment\n",
    "- Compress active csv files\n",
    "- Save transcripts in HDF5 format\n",
    "- Save TIFF image in zarr format with proper chunks\n",
    "\n",
    "## Manual Prepare Steps Before Start\n",
    "### Put files in place\n",
    "1. Create a directory with MERFISH experiment name\n",
    "2. In this directory, create two sub-directories\n",
    "    - raw: contains the exact content of the raw dir produced by the machine\n",
    "    - output: contains region dir produced by the default analysis pipeline\n",
    "\n",
    "### Example\n",
    "A real example before any `merfishing` processing\n",
    "```\n",
    "# Experiment dir\n",
    "202205231554_MouseSagittalM3S1_VMSC01101/\n",
    "├── output/\n",
    "│   └── region_0/\n",
    "│       ├── 202205231554_MouseSagittalM3S1_VMSC01101_region_0.vzg\n",
    "│       ├── cell_boundaries/  # contains HDF files for cell boundries\n",
    "│       ├── cell_by_gene.csv\n",
    "│       ├── cell_metadata.csv\n",
    "│       ├── detected_transcripts.csv\n",
    "│       ├── images/  # contains all the TIFF files for DAPI, PolyT and smFISH, if any\n",
    "│       └── summary.png\n",
    "│   └── region_1/\n",
    "│       ├── ... # your experiment may contains multiple regions if you circled multiple\n",
    "└── raw/\n",
    "    ├── data/  # contains the very raw DAX files\n",
    "    ├── low_resolution/\n",
    "    ├── seg_preview/\n",
    "    ├── settings/\n",
    "    ├── analysis.json\n",
    "    ├── codebook_0_MouseGene500V1_VA00117.csv  # the codebook used for this experiment\n",
    "    ├── dataorganization.csv\n",
    "    ├── EXPERIMENT_FINISHED\n",
    "    ├── experiment.json\n",
    "    ├── RAW_DATA_SYNC_FINISHED\n",
    "    └── settings  # contains the experiment settings\n",
    "```\n",
    "\n",
    "```{note}\n",
    "The `analysis` dir contains intermediate files created by MERLin pipeline from the raw, we don't archive it.\n",
    "```"
   ]
  },
  {
   "cell_type": "markdown",
   "id": "5a3bbe1d",
   "metadata": {},
   "source": [
    "## Archive Process"
   ]
  },
  {
   "cell_type": "code",
   "execution_count": null,
   "id": "b49c95f6",
   "metadata": {
    "ExecuteTime": {
     "end_time": "2022-08-02T07:33:45.571789Z",
     "start_time": "2022-08-02T07:33:41.553393Z"
    },
    "execution": {
     "iopub.execute_input": "2022-08-26T03:56:01.064239Z",
     "iopub.status.busy": "2022-08-26T03:56:01.063504Z",
     "iopub.status.idle": "2022-08-26T03:56:01.069429Z",
     "shell.execute_reply": "2022-08-26T03:56:01.068511Z",
     "shell.execute_reply.started": "2022-08-26T03:56:01.064206Z"
    },
    "tags": []
   },
   "outputs": [],
   "source": [
    "from merfishing import ArchiveMerfishExperiment"
   ]
  },
  {
   "cell_type": "code",
   "execution_count": null,
   "id": "45ca494d",
   "metadata": {
    "ExecuteTime": {
     "end_time": "2022-08-02T07:33:45.581846Z",
     "start_time": "2022-08-02T07:33:45.577902Z"
    },
    "execution": {
     "iopub.execute_input": "2022-08-26T03:56:02.656950Z",
     "iopub.status.busy": "2022-08-26T03:56:02.656341Z",
     "iopub.status.idle": "2022-08-26T03:56:02.660199Z",
     "shell.execute_reply": "2022-08-26T03:56:02.659419Z",
     "shell.execute_reply.started": "2022-08-26T03:56:02.656928Z"
    },
    "tags": []
   },
   "outputs": [],
   "source": [
    "# this is a small test dataset\n",
    "experiment_dir = '/home/qzeng/project/merfish/analysis/202210271225_MouseHanqingB22_VMSC0110/'"
   ]
  },
  {
   "cell_type": "markdown",
   "id": "bda67b46",
   "metadata": {},
   "source": [
    "```{caution}\n",
    "The code below will instantly start archive process, data in the experiment_dir will be modified.\n",
    "```"
   ]
  },
  {
   "cell_type": "code",
   "execution_count": null,
   "id": "1033f0a1",
   "metadata": {
    "ExecuteTime": {
     "end_time": "2022-08-02T07:33:48.372565Z",
     "start_time": "2022-08-02T07:33:45.586706Z"
    },
    "execution": {
     "iopub.execute_input": "2022-08-03T20:40:22.936811Z",
     "iopub.status.busy": "2022-08-03T20:40:22.936419Z",
     "iopub.status.idle": "2022-08-03T20:40:23.481461Z",
     "shell.execute_reply": "2022-08-03T20:40:23.480945Z",
     "shell.execute_reply.started": "2022-08-03T20:40:22.936792Z"
    }
   },
   "outputs": [],
   "source": [
    "# This step take ~16 hours to run on a real 500-gene 1cm2 experiment\n",
    "ArchiveMerfishExperiment(experiment_dir)"
   ]
  },
  {
   "cell_type": "markdown",
   "id": "0267f4f3",
   "metadata": {},
   "source": [
    "## After Archive Process Finished"
   ]
  },
  {
   "cell_type": "markdown",
   "id": "c8925e29",
   "metadata": {},
   "source": [
    "The archive code above will generate a tar.gz file located in `{experiment_dir}/{experiment_name}.tar.gz`. Archive this file for long term data storage.\n",
    "\n",
    "```{important}\n",
    "Once the `tar.gz` file is successfully generated, the raw data will be deleted automatically to save space. Make sure you archive the `tar.gz` file properly.\n",
    "```"
   ]
  },
  {
   "cell_type": "code",
   "execution_count": null,
   "id": "df87efc0",
   "metadata": {},
   "outputs": [],
   "source": []
  }
 ],
 "metadata": {
  "hide_input": false,
  "kernelspec": {
   "display_name": "Python 3 (ipykernel)",
   "language": "python",
   "name": "python3"
  },
  "language_info": {
   "codemirror_mode": {
    "name": "ipython",
    "version": 3
   },
   "file_extension": ".py",
   "mimetype": "text/x-python",
   "name": "python",
   "nbconvert_exporter": "python",
   "pygments_lexer": "ipython3",
   "version": "3.7.12"
  },
  "toc": {
   "base_numbering": 1,
   "nav_menu": {},
   "number_sections": true,
   "sideBar": true,
   "skip_h1_title": true,
   "title_cell": "Table of Contents",
   "title_sidebar": "Contents",
   "toc_cell": false,
   "toc_position": {},
   "toc_section_display": true,
   "toc_window_display": true
  }
 },
 "nbformat": 4,
 "nbformat_minor": 5
}
