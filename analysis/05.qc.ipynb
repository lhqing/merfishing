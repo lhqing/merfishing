{
 "cells": [
  {
   "cell_type": "markdown",
   "id": "64895d5e-091e-407c-b8bd-df8b5294a889",
   "metadata": {},
   "source": [
    "# MERFISH Experiment clustering\n",
    "\n",
    "## Goals\n",
    "- generate adata containing cell_by_gene matrix and cooridinates of each cell\n",
    "- quality control to select cells"
   ]
  },
  {
   "cell_type": "code",
   "execution_count": null,
   "id": "4a884d4c-4053-46ff-a6dd-219b58fcdef2",
   "metadata": {
    "execution": {
     "iopub.execute_input": "2022-12-01T19:29:48.402278Z",
     "iopub.status.busy": "2022-12-01T19:29:48.401988Z",
     "iopub.status.idle": "2022-12-01T19:30:14.157296Z",
     "shell.execute_reply": "2022-12-01T19:30:14.156498Z",
     "shell.execute_reply.started": "2022-12-01T19:29:48.402229Z"
    },
    "tags": []
   },
   "outputs": [],
   "source": [
    "from anndata import AnnData\n",
    "import scanpy as sc\n",
    "#import squidpy as sq\n",
    "\n",
    "from numpy.random import default_rng\n",
    "\n",
    "import matplotlib.pyplot as plt\n",
    "import pandas as pd\n",
    "from ALLCools.plot import *\n",
    "from ALLCools.clustering import tsne\n",
    "from merfishing import Merfish\n",
    "import seaborn as sns\n",
    "from merfishing.core import clustering\n",
    "import pathlib"
   ]
  },
  {
   "cell_type": "code",
   "execution_count": null,
   "id": "8e4b2f34-9b24-4e2e-8bd9-b33d7f01f3a6",
   "metadata": {
    "execution": {
     "iopub.execute_input": "2022-12-01T19:30:14.158972Z",
     "iopub.status.busy": "2022-12-01T19:30:14.158644Z",
     "iopub.status.idle": "2022-12-01T19:30:14.162618Z",
     "shell.execute_reply": "2022-12-01T19:30:14.162017Z",
     "shell.execute_reply.started": "2022-12-01T19:30:14.158952Z"
    },
    "tags": []
   },
   "outputs": [],
   "source": [
    "data_dir = 'output'\n",
    "model = 'watershed'\n",
    "region = 'region_1'"
   ]
  },
  {
   "cell_type": "code",
   "execution_count": null,
   "id": "f810bf88-6687-4c66-9ddc-0d8b67ef1879",
   "metadata": {
    "execution": {
     "iopub.execute_input": "2022-12-01T19:32:41.507231Z",
     "iopub.status.busy": "2022-12-01T19:32:41.506745Z",
     "iopub.status.idle": "2022-12-01T19:32:46.664498Z",
     "shell.execute_reply": "2022-12-01T19:32:46.663118Z",
     "shell.execute_reply.started": "2022-12-01T19:32:41.507210Z"
    },
    "tags": []
   },
   "outputs": [],
   "source": [
    "if model == 'cellpose':\n",
    "    cell_by_gene = pd.read_csv(f'{data_dir}/{region}/cell_by_gene.cellpose.csv.gz', index_col = 0).sort_index()\n",
    "    cell_meta = pd.read_csv(f'{data_dir}/{region}/cell_metadata.cellpose.csv.gz', index_col=0).sort_index()\n",
    "elif model == 'watershed':\n",
    "    cell_by_gene = pd.read_csv(f'{data_dir}/{region}/cell_by_gene.csv.gz', index_col = 0).sort_index()\n",
    "    cell_meta = pd.read_csv(f'{data_dir}/{region}/cell_metadata.csv.gz', index_col=0).sort_index()\n",
    "    "
   ]
  },
  {
   "cell_type": "code",
   "execution_count": null,
   "id": "96c0bcd3-588f-4c8b-a6a2-80f157a17055",
   "metadata": {
    "execution": {
     "iopub.execute_input": "2022-12-01T19:33:00.901626Z",
     "iopub.status.busy": "2022-12-01T19:33:00.901310Z",
     "iopub.status.idle": "2022-12-01T19:33:01.076493Z",
     "shell.execute_reply": "2022-12-01T19:33:01.075878Z",
     "shell.execute_reply.started": "2022-12-01T19:33:00.901600Z"
    },
    "tags": []
   },
   "outputs": [],
   "source": [
    "shared = list(set(cell_meta.index) & set(cell_by_gene.index))  \n",
    "cell_meta = cell_meta.loc[shared]"
   ]
  },
  {
   "cell_type": "markdown",
   "id": "fdf89cf8-3241-4e1c-b9d5-e73ca20ca8df",
   "metadata": {},
   "source": [
    "## QC and selecting cells for further analysis"
   ]
  },
  {
   "cell_type": "code",
   "execution_count": null,
   "id": "12be8dbc-e6f1-4566-a357-2c22d3125f57",
   "metadata": {
    "execution": {
     "iopub.execute_input": "2022-12-01T19:33:02.124314Z",
     "iopub.status.busy": "2022-12-01T19:33:02.123900Z"
    },
    "tags": []
   },
   "outputs": [],
   "source": [
    "# visualize QC metrics as a violoin plot\n",
    "clustering.plot_qc_feature(cell_by_gene, cell_meta)"
   ]
  },
  {
   "cell_type": "code",
   "execution_count": null,
   "id": "2fd5b5e4-27a1-41bc-8c0d-69845596d855",
   "metadata": {
    "execution": {
     "iopub.execute_input": "2022-11-01T17:51:51.835318Z",
     "iopub.status.busy": "2022-11-01T17:51:51.834954Z",
     "iopub.status.idle": "2022-11-01T17:51:54.847341Z",
     "shell.execute_reply": "2022-11-01T17:51:54.846714Z",
     "shell.execute_reply.started": "2022-11-01T17:51:51.835297Z"
    },
    "tags": []
   },
   "outputs": [],
   "source": [
    "cell_by_gene,cell_meta = clustering.qc_before_clustering(cell_meta, \n",
    "                                                         cell_by_gene,  \n",
    "                                                         snmfish_genes=None,\n",
    "                                                         blank_gene_sum_high=5,\n",
    "                                                         z_number=None,\n",
    "                                                         volume_low=30,\n",
    "                                                         volumn_high=2000,\n",
    "                                                         transcript_sum_low=10,\n",
    "                                                         transcript_sum_high=4000,\n",
    "                                                         tanscripts_per_volume_low=0.05,\n",
    "                                                         tanscripts_per_volume_high=5,)"
   ]
  },
  {
   "cell_type": "markdown",
   "id": "1e7d7e2e-f0a1-44f1-899e-6e64c5932c95",
   "metadata": {},
   "source": [
    "# save"
   ]
  },
  {
   "cell_type": "code",
   "execution_count": null,
   "id": "3ab59f41-6f19-49d5-a744-bb66f1ed1016",
   "metadata": {
    "execution": {
     "iopub.execute_input": "2022-11-01T17:51:58.553034Z",
     "iopub.status.busy": "2022-11-01T17:51:58.552716Z",
     "iopub.status.idle": "2022-11-01T17:52:09.373038Z",
     "shell.execute_reply": "2022-11-01T17:52:09.372420Z",
     "shell.execute_reply.started": "2022-11-01T17:51:58.553014Z"
    },
    "tags": []
   },
   "outputs": [],
   "source": [
    "pathlib.Path(\"qc_meta\").mkdir(parents=True, exist_ok=True)\n",
    "assert cell_by_gene.shape[0] == cell_meta.shape[0]\n",
    "\n",
    "cell_by_gene.to_csv(f'./qc_meta/{region}_{model}_afterQC_cell_by_gene.csv', header = True, index = True)\n",
    "cell_meta.to_csv(f'./qc_meta/{region}_{model}_afterQC_cell_meta.csv', header = True, index = True)"
   ]
  },
  {
   "cell_type": "code",
   "execution_count": null,
   "id": "4f7c83b8-f366-4e4f-b16c-c19613aa79f0",
   "metadata": {},
   "outputs": [],
   "source": []
  },
  {
   "cell_type": "code",
   "execution_count": null,
   "id": "bdfb4c8a-1c5b-40ca-bb46-08b055c5dd03",
   "metadata": {},
   "outputs": [],
   "source": []
  },
  {
   "cell_type": "code",
   "execution_count": null,
   "id": "9cd6a3e3-66ed-4ea4-b543-d6cd0174be75",
   "metadata": {},
   "outputs": [],
   "source": []
  },
  {
   "cell_type": "code",
   "execution_count": null,
   "id": "1be13845-ea82-4707-8aa8-6d25ae3224bf",
   "metadata": {},
   "outputs": [],
   "source": []
  },
  {
   "cell_type": "code",
   "execution_count": null,
   "id": "ec988dc7-683e-465d-9181-248d9843a50a",
   "metadata": {},
   "outputs": [],
   "source": []
  },
  {
   "cell_type": "code",
   "execution_count": null,
   "id": "96bc8f05-f1e8-4562-bb8a-7124d96a6e56",
   "metadata": {},
   "outputs": [],
   "source": []
  },
  {
   "cell_type": "code",
   "execution_count": null,
   "id": "372fdd33-219a-4a81-89c9-3e9f9e53acc9",
   "metadata": {},
   "outputs": [],
   "source": []
  }
 ],
 "metadata": {
  "kernelspec": {
   "display_name": "Python 3 (ipykernel)",
   "language": "python",
   "name": "python3"
  },
  "language_info": {
   "codemirror_mode": {
    "name": "ipython",
    "version": 3
   },
   "file_extension": ".py",
   "mimetype": "text/x-python",
   "name": "python",
   "nbconvert_exporter": "python",
   "pygments_lexer": "ipython3",
   "version": "3.10.6"
  }
 },
 "nbformat": 4,
 "nbformat_minor": 5
}
