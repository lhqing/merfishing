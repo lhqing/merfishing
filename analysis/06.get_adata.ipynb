{
 "cells": [
  {
   "cell_type": "markdown",
   "id": "64895d5e-091e-407c-b8bd-df8b5294a889",
   "metadata": {},
   "source": [
    "# MERFISH Experiment clustering\n",
    "\n",
    "## Goals\n",
    "- generate adata containing cell_by_gene matrix and cooridinates of each cell\n",
    "- quality control to select cells\n",
    "- clustering"
   ]
  },
  {
   "cell_type": "code",
   "execution_count": null,
   "id": "4a884d4c-4053-46ff-a6dd-219b58fcdef2",
   "metadata": {
    "execution": {
     "iopub.execute_input": "2022-11-01T17:53:28.073521Z",
     "iopub.status.busy": "2022-11-01T17:53:28.073203Z",
     "iopub.status.idle": "2022-11-01T17:53:28.077752Z",
     "shell.execute_reply": "2022-11-01T17:53:28.077109Z",
     "shell.execute_reply.started": "2022-11-01T17:53:28.073501Z"
    },
    "tags": []
   },
   "outputs": [],
   "source": [
    "from anndata import AnnData\n",
    "import scanpy as sc\n",
    "#import squidpy as sq\n",
    "\n",
    "from numpy.random import default_rng\n",
    "\n",
    "import matplotlib.pyplot as plt\n",
    "import pandas as pd\n",
    "from ALLCools.plot import *\n",
    "from ALLCools.clustering import tsne\n",
    "from merfishing import Merfish\n",
    "import seaborn as sns\n",
    "from merfishing.core import clustering\n",
    "import seaborn as sns\n",
    "import pathlib"
   ]
  },
  {
   "cell_type": "code",
   "execution_count": null,
   "id": "b2c7f928-0218-4186-bbf0-85442b8e2a9d",
   "metadata": {
    "execution": {
     "iopub.execute_input": "2022-11-01T17:53:28.711409Z",
     "iopub.status.busy": "2022-11-01T17:53:28.711134Z",
     "iopub.status.idle": "2022-11-01T17:53:28.713994Z",
     "shell.execute_reply": "2022-11-01T17:53:28.713503Z",
     "shell.execute_reply.started": "2022-11-01T17:53:28.711390Z"
    },
    "tags": []
   },
   "outputs": [],
   "source": [
    "model = 'watershed'\n",
    "region = 'region_1'"
   ]
  },
  {
   "cell_type": "code",
   "execution_count": null,
   "id": "96c0bcd3-588f-4c8b-a6a2-80f157a17055",
   "metadata": {
    "execution": {
     "iopub.execute_input": "2022-11-01T17:53:29.155930Z",
     "iopub.status.busy": "2022-11-01T17:53:29.155526Z",
     "iopub.status.idle": "2022-11-01T17:53:31.333160Z",
     "shell.execute_reply": "2022-11-01T17:53:31.332529Z",
     "shell.execute_reply.started": "2022-11-01T17:53:29.155913Z"
    },
    "tags": []
   },
   "outputs": [],
   "source": [
    "cell_by_gene = pd.read_csv(f'./qc_meta/{region}_{model}_afterQC_cell_by_gene.csv', \n",
    "                           index_col = 0).sort_index()\n",
    "cell_meta = pd.read_csv(f'./qc_meta/{region}_{model}_afterQC_cell_meta.csv', \n",
    "                        index_col=0).sort_index()\n"
   ]
  },
  {
   "cell_type": "markdown",
   "id": "81b10231-a463-409c-b360-1dc2d2ea0c38",
   "metadata": {},
   "source": [
    "## get adata"
   ]
  },
  {
   "cell_type": "code",
   "execution_count": null,
   "id": "920d06dc-1e7a-42c8-9f34-7945ffde9e1d",
   "metadata": {
    "execution": {
     "iopub.execute_input": "2022-11-01T17:53:31.334588Z",
     "iopub.status.busy": "2022-11-01T17:53:31.334290Z",
     "iopub.status.idle": "2022-11-01T17:53:31.339320Z",
     "shell.execute_reply": "2022-11-01T17:53:31.338777Z",
     "shell.execute_reply.started": "2022-11-01T17:53:31.334568Z"
    },
    "tags": []
   },
   "outputs": [],
   "source": [
    "adata = clustering.generate_adata(cell_by_gene, cell_meta)"
   ]
  },
  {
   "cell_type": "code",
   "execution_count": null,
   "id": "9ff09c78-e726-4523-bc24-57dc044314f4",
   "metadata": {
    "execution": {
     "iopub.execute_input": "2022-11-01T17:53:31.340282Z",
     "iopub.status.busy": "2022-11-01T17:53:31.340018Z",
     "iopub.status.idle": "2022-11-01T17:53:34.162274Z",
     "shell.execute_reply": "2022-11-01T17:53:34.161725Z",
     "shell.execute_reply.started": "2022-11-01T17:53:31.340265Z"
    },
    "tags": []
   },
   "outputs": [],
   "source": [
    "sc.pp.normalize_total(adata)\n",
    "sc.pp.log1p(adata)\n",
    "sc.pp.pca(adata)\n",
    "sc.pl.pca_variance_ratio(adata, log=True)"
   ]
  },
  {
   "cell_type": "code",
   "execution_count": null,
   "id": "8f4066ae-383c-4fae-9cb5-a7e49ea74f71",
   "metadata": {
    "execution": {
     "iopub.execute_input": "2022-11-01T17:53:34.163761Z",
     "iopub.status.busy": "2022-11-01T17:53:34.163479Z",
     "iopub.status.idle": "2022-11-01T17:54:37.002573Z",
     "shell.execute_reply": "2022-11-01T17:54:37.001535Z",
     "shell.execute_reply.started": "2022-11-01T17:53:34.163742Z"
    },
    "tags": []
   },
   "outputs": [],
   "source": [
    "sc.pp.neighbors(adata, n_neighbors=10, n_pcs=20)\n",
    "sc.tl.umap(adata)\n",
    "sc.tl.leiden(adata)"
   ]
  },
  {
   "cell_type": "code",
   "execution_count": null,
   "id": "74face91-dff5-44d7-b02b-fe420befa8be",
   "metadata": {
    "execution": {
     "iopub.execute_input": "2022-11-01T17:54:37.004150Z",
     "iopub.status.busy": "2022-11-01T17:54:37.003835Z",
     "iopub.status.idle": "2022-11-01T17:54:37.538724Z",
     "shell.execute_reply": "2022-11-01T17:54:37.537883Z",
     "shell.execute_reply.started": "2022-11-01T17:54:37.004128Z"
    },
    "tags": []
   },
   "outputs": [],
   "source": [
    "pathlib.Path('adata').mkdir(parents=True, exist_ok=True)\n",
    "adata.write_h5ad(f'./adata/{model}_{region}.h5ad')"
   ]
  },
  {
   "cell_type": "code",
   "execution_count": null,
   "id": "5461eb0b-8809-4b8f-8384-4b1929fbd245",
   "metadata": {},
   "outputs": [],
   "source": []
  },
  {
   "cell_type": "code",
   "execution_count": null,
   "id": "4f80b92f-e319-4420-877d-146beea6f140",
   "metadata": {},
   "outputs": [],
   "source": []
  },
  {
   "cell_type": "code",
   "execution_count": null,
   "id": "a68d9db4-d7b3-4946-8d81-cb7b63a849f4",
   "metadata": {},
   "outputs": [],
   "source": []
  },
  {
   "cell_type": "code",
   "execution_count": null,
   "id": "91b5b2f0-8a83-4694-9bc3-6c477972043e",
   "metadata": {},
   "outputs": [],
   "source": []
  },
  {
   "cell_type": "code",
   "execution_count": null,
   "id": "a74bfd7a-1d16-4882-925e-a273e8eb38ed",
   "metadata": {},
   "outputs": [],
   "source": []
  },
  {
   "cell_type": "code",
   "execution_count": null,
   "id": "068e3e58-3c41-43fa-a13c-aa1e84a75781",
   "metadata": {},
   "outputs": [],
   "source": []
  },
  {
   "cell_type": "code",
   "execution_count": null,
   "id": "4b23218e-6448-4468-adc9-949a9c147788",
   "metadata": {},
   "outputs": [],
   "source": []
  },
  {
   "cell_type": "code",
   "execution_count": null,
   "id": "44764dce-1257-4d4d-b074-5ccf8bfd2873",
   "metadata": {},
   "outputs": [],
   "source": []
  },
  {
   "cell_type": "code",
   "execution_count": null,
   "id": "15153aea-2623-41e4-85f6-0c310963b988",
   "metadata": {},
   "outputs": [],
   "source": []
  },
  {
   "cell_type": "code",
   "execution_count": null,
   "id": "4f7c83b8-f366-4e4f-b16c-c19613aa79f0",
   "metadata": {},
   "outputs": [],
   "source": []
  },
  {
   "cell_type": "code",
   "execution_count": null,
   "id": "bdfb4c8a-1c5b-40ca-bb46-08b055c5dd03",
   "metadata": {},
   "outputs": [],
   "source": []
  },
  {
   "cell_type": "code",
   "execution_count": null,
   "id": "9cd6a3e3-66ed-4ea4-b543-d6cd0174be75",
   "metadata": {},
   "outputs": [],
   "source": []
  },
  {
   "cell_type": "code",
   "execution_count": null,
   "id": "1be13845-ea82-4707-8aa8-6d25ae3224bf",
   "metadata": {},
   "outputs": [],
   "source": []
  },
  {
   "cell_type": "code",
   "execution_count": null,
   "id": "ec988dc7-683e-465d-9181-248d9843a50a",
   "metadata": {},
   "outputs": [],
   "source": []
  },
  {
   "cell_type": "code",
   "execution_count": null,
   "id": "96bc8f05-f1e8-4562-bb8a-7124d96a6e56",
   "metadata": {},
   "outputs": [],
   "source": []
  },
  {
   "cell_type": "code",
   "execution_count": null,
   "id": "372fdd33-219a-4a81-89c9-3e9f9e53acc9",
   "metadata": {},
   "outputs": [],
   "source": []
  }
 ],
 "metadata": {
  "kernelspec": {
   "display_name": "Python 3 (ipykernel)",
   "language": "python",
   "name": "python3"
  },
  "language_info": {
   "codemirror_mode": {
    "name": "ipython",
    "version": 3
   },
   "file_extension": ".py",
   "mimetype": "text/x-python",
   "name": "python",
   "nbconvert_exporter": "python",
   "pygments_lexer": "ipython3",
   "version": "3.10.6"
  }
 },
 "nbformat": 4,
 "nbformat_minor": 5
}
