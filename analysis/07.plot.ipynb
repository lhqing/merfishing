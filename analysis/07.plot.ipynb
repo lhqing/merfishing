{
 "cells": [
  {
   "cell_type": "code",
   "execution_count": null,
   "id": "9dddcf45-98a4-476e-8cbf-a9ab18d96ea3",
   "metadata": {
    "execution": {
     "iopub.execute_input": "2022-11-01T17:54:43.601838Z",
     "iopub.status.busy": "2022-11-01T17:54:43.601408Z",
     "iopub.status.idle": "2022-11-01T17:54:43.606714Z",
     "shell.execute_reply": "2022-11-01T17:54:43.606181Z",
     "shell.execute_reply.started": "2022-11-01T17:54:43.601813Z"
    },
    "tags": []
   },
   "outputs": [],
   "source": [
    "from anndata import AnnData\n",
    "import scanpy as sc\n",
    "\n",
    "import matplotlib.pyplot as plt\n",
    "import pandas as pd\n",
    "from ALLCools.plot import *\n",
    "from skimage.transform import rotate, SimilarityTransform, matrix_transform\n",
    "import numpy as np\n",
    "import seaborn as sns"
   ]
  },
  {
   "cell_type": "code",
   "execution_count": null,
   "id": "064f1dc6-cd68-4a62-9607-1e7aad5992ec",
   "metadata": {
    "execution": {
     "iopub.execute_input": "2022-11-01T17:54:46.600229Z",
     "iopub.status.busy": "2022-11-01T17:54:46.600002Z",
     "iopub.status.idle": "2022-11-01T17:54:46.603571Z",
     "shell.execute_reply": "2022-11-01T17:54:46.602976Z",
     "shell.execute_reply.started": "2022-11-01T17:54:46.600210Z"
    },
    "tags": []
   },
   "outputs": [],
   "source": [
    "batch = 'b2-2'\n",
    "model = 'watershed'\n",
    "region = 'region_1'"
   ]
  },
  {
   "cell_type": "code",
   "execution_count": null,
   "id": "5e3d4317-3112-437e-88b1-73e26f77028a",
   "metadata": {
    "execution": {
     "iopub.execute_input": "2022-11-01T17:54:47.643428Z",
     "iopub.status.busy": "2022-11-01T17:54:47.643110Z",
     "iopub.status.idle": "2022-11-01T17:54:50.097032Z",
     "shell.execute_reply": "2022-11-01T17:54:50.096305Z",
     "shell.execute_reply.started": "2022-11-01T17:54:47.643410Z"
    },
    "tags": []
   },
   "outputs": [],
   "source": [
    "adata  = sc.read_h5ad(f'./adata/{model}_{region}.h5ad')\n",
    "cell_by_gene = pd.read_csv(f'./qc_meta/{region}_{model}_afterQC_cell_by_gene.csv', \n",
    "                           index_col = 0).sort_index()\n",
    "cell_meta = pd.read_csv(f'./qc_meta/{region}_{model}_afterQC_cell_meta.csv', \n",
    "                        index_col=0).sort_index()"
   ]
  },
  {
   "cell_type": "code",
   "execution_count": null,
   "id": "589b0389-8d47-4869-8b56-cd979d6335cc",
   "metadata": {
    "execution": {
     "iopub.execute_input": "2022-11-01T17:54:50.098469Z",
     "iopub.status.busy": "2022-11-01T17:54:50.098239Z",
     "iopub.status.idle": "2022-11-01T17:54:50.101899Z",
     "shell.execute_reply": "2022-11-01T17:54:50.101412Z",
     "shell.execute_reply.started": "2022-11-01T17:54:50.098449Z"
    },
    "tags": []
   },
   "outputs": [],
   "source": [
    "adata.obsm['X_spatial'] = adata.obsm['spatial'].copy()\n",
    "del adata.obsm['spatial']"
   ]
  },
  {
   "cell_type": "code",
   "execution_count": null,
   "id": "bf8c424d-0c15-4084-a0aa-af214d797076",
   "metadata": {
    "execution": {
     "iopub.execute_input": "2022-11-01T17:54:50.103143Z",
     "iopub.status.busy": "2022-11-01T17:54:50.102610Z",
     "iopub.status.idle": "2022-11-01T17:54:50.106241Z",
     "shell.execute_reply": "2022-11-01T17:54:50.105762Z",
     "shell.execute_reply.started": "2022-11-01T17:54:50.103125Z"
    },
    "tags": []
   },
   "outputs": [],
   "source": [
    "print(f'cell number: {len(adata.obs_names)}')"
   ]
  },
  {
   "cell_type": "markdown",
   "id": "7d2d8b43-32f5-47d4-9444-4e483d020f85",
   "metadata": {
    "tags": []
   },
   "source": [
    "# plot umap"
   ]
  },
  {
   "cell_type": "code",
   "execution_count": null,
   "id": "de9ffdef-8fdb-4ef0-a29c-6499e4c8963e",
   "metadata": {
    "execution": {
     "iopub.execute_input": "2022-11-01T17:54:51.983400Z",
     "iopub.status.busy": "2022-11-01T17:54:51.983115Z",
     "iopub.status.idle": "2022-11-01T17:54:53.494702Z",
     "shell.execute_reply": "2022-11-01T17:54:53.493822Z",
     "shell.execute_reply.started": "2022-11-01T17:54:51.983380Z"
    },
    "tags": []
   },
   "outputs": [],
   "source": [
    "fig, axes = plt.subplots(figsize = (10,5), ncols = 2,dpi = 200)\n",
    "\n",
    "ax = axes[0]\n",
    "categorical_scatter(data=adata,\n",
    "                        ax=ax,\n",
    "                        coord_base='umap',\n",
    "                        hue='leiden',\n",
    "                        text_anno='leiden',\n",
    "                        show_legend=True,\n",
    "                       max_points = None)\n",
    "ax.set(title = 'cluster')\n",
    "\n",
    "ax = axes[1]\n",
    "continuous_scatter(data=adata,\n",
    "                        ax=ax,\n",
    "                        coord_base='umap',\n",
    "                        hue=cell_meta['volume'],\n",
    "                       max_points = None)\n",
    "\n",
    "ax.set(title = 'cell_volume')\n",
    "\n"
   ]
  },
  {
   "cell_type": "markdown",
   "id": "f7c92d65-3123-47c2-a5ab-446154b3dd82",
   "metadata": {},
   "source": [
    "## plot cluster spatial"
   ]
  },
  {
   "cell_type": "code",
   "execution_count": null,
   "id": "21fb1d73-789b-4853-8d21-56b78cab10ce",
   "metadata": {
    "execution": {
     "iopub.execute_input": "2022-11-01T17:54:53.971164Z",
     "iopub.status.busy": "2022-11-01T17:54:53.970776Z",
     "iopub.status.idle": "2022-11-01T17:54:54.010475Z",
     "shell.execute_reply": "2022-11-01T17:54:54.009471Z",
     "shell.execute_reply.started": "2022-11-01T17:54:53.971138Z"
    },
    "tags": []
   },
   "outputs": [],
   "source": [
    "# rotate spatial\n",
    "trans_mat = SimilarityTransform(rotation=6.7)\n",
    "rotate_coord = matrix_transform(adata.obsm['X_spatial'], np.array(trans_mat))\n",
    "adata.obsm['X_spatial_rotated'] = rotate_coord.copy()"
   ]
  },
  {
   "cell_type": "code",
   "execution_count": null,
   "id": "915ea3b2-c973-4dad-8163-7dddb96243ad",
   "metadata": {
    "execution": {
     "iopub.execute_input": "2022-11-01T17:56:19.744954Z",
     "iopub.status.busy": "2022-11-01T17:56:19.744483Z",
     "iopub.status.idle": "2022-11-01T17:56:20.852747Z",
     "shell.execute_reply": "2022-11-01T17:56:20.852177Z",
     "shell.execute_reply.started": "2022-11-01T17:56:19.744933Z"
    },
    "tags": []
   },
   "outputs": [],
   "source": [
    "fig, axes = plt.subplots(figsize = (5,3), ncols = 2, dpi = 200)\n",
    "\n",
    "ax = axes[0]\n",
    "categorical_scatter(data=adata,\n",
    "                        ax=ax,\n",
    "                        coord_base='spatial_rotated',\n",
    "                        hue='leiden',\n",
    "                        #text_anno='leiden',\n",
    "                        show_legend=False,\n",
    "                       max_points = None)\n",
    "ax.set(title = 'cluster')\n",
    "\n",
    "ax = axes[1]\n",
    "continuous_scatter(data=adata,\n",
    "                        ax=ax,\n",
    "                        coord_base='spatial_rotated',\n",
    "                        hue=cell_meta['volume'],\n",
    "                       max_points = None)\n",
    "\n",
    "ax.set(title = 'cell_volume')\n"
   ]
  },
  {
   "cell_type": "code",
   "execution_count": null,
   "id": "4520f6bc-d6ba-4df1-a7fb-0eda895a69ef",
   "metadata": {
    "execution": {
     "iopub.execute_input": "2022-11-01T17:56:36.973458Z",
     "iopub.status.busy": "2022-11-01T17:56:36.972784Z",
     "iopub.status.idle": "2022-11-01T17:56:50.860526Z",
     "shell.execute_reply": "2022-11-01T17:56:50.859897Z",
     "shell.execute_reply.started": "2022-11-01T17:56:36.973406Z"
    },
    "tags": []
   },
   "outputs": [],
   "source": [
    "cluster_list = list(adata.obs['leiden'].unique().sort_values())\n",
    "n_plots = len(cluster_list)\n",
    "\n",
    "fig, axes = plt.subplots(figsize=(12, 8),\n",
    "                         nrows=4,\n",
    "                         ncols=6,\n",
    "                         dpi=300,\n",
    "                         constrained_layout=True,\n",
    "                         sharex=False)\n",
    "\n",
    "for ax, cluster in zip(axes.ravel(), cluster_list):\n",
    "    categorical_scatter(data=adata,\n",
    "                            ax=ax,\n",
    "                            coord_base='spatial_rotated',\n",
    "                            hue=adata.obs['leiden'].isin([cluster]),\n",
    "                            #text_anno='leiden',\n",
    "                            show_legend=False,\n",
    "                            palette = {\n",
    "                                        True: 'red',\n",
    "                                        False: 'lightgrey'\n",
    "                                    },\n",
    "                           max_points = None)\n",
    "    ax.set( title = cluster) \n",
    "    \n",
    "for ax in axes.ravel()[n_plots:]:\n",
    "    ax.axis('off')"
   ]
  },
  {
   "cell_type": "code",
   "execution_count": null,
   "id": "e28d4287-4ff0-42a2-b320-620ca6561453",
   "metadata": {
    "execution": {
     "iopub.execute_input": "2022-11-01T17:57:54.586629Z",
     "iopub.status.busy": "2022-11-01T17:57:54.586189Z",
     "iopub.status.idle": "2022-11-01T17:57:54.908359Z",
     "shell.execute_reply": "2022-11-01T17:57:54.907450Z",
     "shell.execute_reply.started": "2022-11-01T17:57:54.586607Z"
    },
    "tags": []
   },
   "outputs": [],
   "source": [
    "adata.write_h5ad(f'./adata/{batch}_{model}_{region}_rotated.h5ad')"
   ]
  },
  {
   "cell_type": "markdown",
   "id": "9c051ed9-ebc9-45cb-9995-582db6f6b2a1",
   "metadata": {
    "tags": []
   },
   "source": [
    "# plot marker gene"
   ]
  },
  {
   "cell_type": "code",
   "execution_count": null,
   "id": "d20a755d-00e2-47cd-b8cf-bc2b95f1989b",
   "metadata": {
    "execution": {
     "iopub.execute_input": "2022-08-08T20:36:26.274805Z",
     "iopub.status.busy": "2022-08-08T20:36:26.274210Z",
     "iopub.status.idle": "2022-08-08T20:36:26.278915Z",
     "shell.execute_reply": "2022-08-08T20:36:26.278263Z",
     "shell.execute_reply.started": "2022-08-08T20:36:26.274766Z"
    },
    "tags": []
   },
   "outputs": [],
   "source": [
    "# fish_genes = ['Fos','Snap25','Slc1a2','Slc17a7','Gad1','Mbp']\n",
    "# fig, axes = plt.subplots(figsize = (12,4), ncols = 3, nrows =2, dpi = 200)\n",
    "\n",
    "# for ax, gene in zip(axes.ravel(), fish_genes):\n",
    "#     continuous_scatter(data=adata, \n",
    "#                    coord_base='spatial_rotated',\n",
    "#                    ax = ax,\n",
    "#                    hue=cell_by_gene[gene],\n",
    "#                    max_points=None)\n",
    "#     ax.set( title = gene) \n",
    "    \n",
    "# for ax in axes.ravel()[n_plots:]:\n",
    "#     ax.axis('off')"
   ]
  },
  {
   "cell_type": "code",
   "execution_count": null,
   "id": "92c5b744-8b17-4fed-8c3c-63ce38f2b7d8",
   "metadata": {
    "execution": {
     "iopub.execute_input": "2022-10-21T00:14:23.921993Z",
     "iopub.status.busy": "2022-10-21T00:14:23.921630Z",
     "iopub.status.idle": "2022-10-21T00:14:23.925195Z",
     "shell.execute_reply": "2022-10-21T00:14:23.924615Z",
     "shell.execute_reply.started": "2022-10-21T00:14:23.921971Z"
    },
    "tags": []
   },
   "outputs": [],
   "source": [
    "# fig, ax = plt.subplots(figsize = (4,2), ncols = 1, nrows =1, dpi = 200)\n",
    "\n",
    "# continuous_scatter(data=adata, \n",
    "#                    coord_base='spatial_rotated',\n",
    "#                    ax = ax,\n",
    "#                    hue=cell_by_gene['Tshz2'],\n",
    "#                    max_points=None)\n",
    "# ax.set( title = 'Tshz2') "
   ]
  },
  {
   "cell_type": "code",
   "execution_count": null,
   "id": "ec11ab5a-6ccb-4ccc-b194-b1d77b4308c5",
   "metadata": {
    "execution": {
     "iopub.execute_input": "2022-10-04T18:33:20.246504Z",
     "iopub.status.busy": "2022-10-04T18:33:20.246005Z",
     "iopub.status.idle": "2022-10-04T18:33:20.249830Z",
     "shell.execute_reply": "2022-10-04T18:33:20.249341Z",
     "shell.execute_reply.started": "2022-10-04T18:33:20.246483Z"
    },
    "tags": []
   },
   "outputs": [],
   "source": [
    "# fig, axes = plt.subplots(figsize = (10,58), ncols = 5, nrows =29, dpi = 200)\n",
    "\n",
    "# for ax, gene in zip(axes.ravel(), cef_list):\n",
    "#     continuous_scatter(data=adata, \n",
    "#                    coord_base='umap',\n",
    "#                    ax = ax,\n",
    "#                    hue=cell_by_gene[gene],\n",
    "#                    max_points=None)\n",
    "#     ax.set( title = gene) \n"
   ]
  },
  {
   "cell_type": "code",
   "execution_count": null,
   "id": "02ea62c1-21ac-4a4f-9eca-a74339c7b8ed",
   "metadata": {},
   "outputs": [],
   "source": []
  },
  {
   "cell_type": "code",
   "execution_count": null,
   "id": "fd23cbd4-a3ba-4e2c-ba12-85f50a7220ff",
   "metadata": {},
   "outputs": [],
   "source": []
  },
  {
   "cell_type": "code",
   "execution_count": null,
   "id": "c889ce81-7847-4a68-8ad8-691335193530",
   "metadata": {},
   "outputs": [],
   "source": []
  },
  {
   "cell_type": "code",
   "execution_count": null,
   "id": "72a78343-8433-4426-9010-781a8fedea94",
   "metadata": {},
   "outputs": [],
   "source": []
  },
  {
   "cell_type": "code",
   "execution_count": null,
   "id": "dd7160ff-350a-4b77-894d-ced81337ccf5",
   "metadata": {},
   "outputs": [],
   "source": []
  },
  {
   "cell_type": "code",
   "execution_count": null,
   "id": "adb0679e-474b-42c3-ac76-62c6cff3b61b",
   "metadata": {},
   "outputs": [],
   "source": []
  },
  {
   "cell_type": "code",
   "execution_count": null,
   "id": "7a07d209-4bc5-43a6-9140-f160da29f1d6",
   "metadata": {},
   "outputs": [],
   "source": []
  },
  {
   "cell_type": "code",
   "execution_count": null,
   "id": "604f0ff4-b407-40f9-b699-61ae1d7ff8e3",
   "metadata": {},
   "outputs": [],
   "source": []
  },
  {
   "cell_type": "code",
   "execution_count": null,
   "id": "40e47e37-4c8e-4dec-bf7e-c31ca66968a1",
   "metadata": {},
   "outputs": [],
   "source": []
  },
  {
   "cell_type": "code",
   "execution_count": null,
   "id": "d924a774-18f5-4521-ace3-b79abb8d873e",
   "metadata": {},
   "outputs": [],
   "source": []
  },
  {
   "cell_type": "code",
   "execution_count": null,
   "id": "a1ef3095-3a3f-495c-83f8-5473700a48c4",
   "metadata": {},
   "outputs": [],
   "source": []
  },
  {
   "cell_type": "code",
   "execution_count": null,
   "id": "a331255e-7f7b-4cf2-8885-bba114fec542",
   "metadata": {},
   "outputs": [],
   "source": []
  },
  {
   "cell_type": "code",
   "execution_count": null,
   "id": "2c190ed0-223f-473b-8d7a-9710d9f58984",
   "metadata": {},
   "outputs": [],
   "source": []
  },
  {
   "cell_type": "code",
   "execution_count": null,
   "id": "3b5dee81-960a-43da-a134-6a334849eda4",
   "metadata": {},
   "outputs": [],
   "source": []
  }
 ],
 "metadata": {
  "kernelspec": {
   "display_name": "Python 3 (ipykernel)",
   "language": "python",
   "name": "python3"
  },
  "language_info": {
   "codemirror_mode": {
    "name": "ipython",
    "version": 3
   },
   "file_extension": ".py",
   "mimetype": "text/x-python",
   "name": "python",
   "nbconvert_exporter": "python",
   "pygments_lexer": "ipython3",
   "version": "3.7.12"
  }
 },
 "nbformat": 4,
 "nbformat_minor": 5
}
