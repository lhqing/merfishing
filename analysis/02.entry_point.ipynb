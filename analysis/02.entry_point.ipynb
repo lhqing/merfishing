{
 "cells": [
  {
   "cell_type": "markdown",
   "id": "8a34f931",
   "metadata": {},
   "source": [
    "# MERFISH Experiment Region Entry Point\n",
    "\n",
    "## Goals\n",
    "- Provide a single entry point for a MERFISH experiment region\n",
    "- Simple API for retriving file and experimental information\n",
    "- Plot MERFISH transcripts together with DAPI, PolyT and other smFISH images"
   ]
  },
  {
   "cell_type": "markdown",
   "id": "b9906420",
   "metadata": {},
   "source": [
    "## Main Entry Point"
   ]
  },
  {
   "cell_type": "code",
   "execution_count": null,
   "id": "92a33fa5",
   "metadata": {
    "ExecuteTime": {
     "end_time": "2022-08-02T08:02:44.625507Z",
     "start_time": "2022-08-02T08:02:42.568528Z"
    },
    "execution": {
     "iopub.execute_input": "2022-10-25T04:51:07.816442Z",
     "iopub.status.busy": "2022-10-25T04:51:07.816195Z",
     "iopub.status.idle": "2022-10-25T04:51:13.408331Z",
     "shell.execute_reply": "2022-10-25T04:51:13.407381Z",
     "shell.execute_reply.started": "2022-10-25T04:51:07.816395Z"
    },
    "tags": []
   },
   "outputs": [],
   "source": [
    "from merfishing import Merfish\n",
    "import pandas as pd\n",
    "import matplotlib.pyplot as plt"
   ]
  },
  {
   "cell_type": "code",
   "execution_count": null,
   "id": "f8790f03",
   "metadata": {
    "ExecuteTime": {
     "end_time": "2022-08-02T08:02:44.644568Z",
     "start_time": "2022-08-02T08:02:44.628645Z"
    },
    "execution": {
     "iopub.execute_input": "2022-10-25T04:51:13.410628Z",
     "iopub.status.busy": "2022-10-25T04:51:13.409817Z",
     "iopub.status.idle": "2022-10-25T04:51:13.772969Z",
     "shell.execute_reply": "2022-10-25T04:51:13.772434Z",
     "shell.execute_reply.started": "2022-10-25T04:51:13.410598Z"
    },
    "tags": []
   },
   "outputs": [],
   "source": [
    "merfish = Merfish('./output/region_0')"
   ]
  },
  {
   "cell_type": "markdown",
   "id": "2b7ec24d",
   "metadata": {
    "tags": []
   },
   "source": [
    "## Get Info"
   ]
  },
  {
   "cell_type": "code",
   "execution_count": null,
   "id": "7e311677",
   "metadata": {
    "ExecuteTime": {
     "end_time": "2022-08-02T08:02:44.652774Z",
     "start_time": "2022-08-02T08:02:44.648931Z"
    },
    "execution": {
     "iopub.execute_input": "2022-10-25T04:51:55.227727Z",
     "iopub.status.busy": "2022-10-25T04:51:55.227447Z",
     "iopub.status.idle": "2022-10-25T04:51:55.231246Z",
     "shell.execute_reply": "2022-10-25T04:51:55.230588Z",
     "shell.execute_reply.started": "2022-10-25T04:51:55.227707Z"
    },
    "tags": []
   },
   "outputs": [],
   "source": [
    "# field of view id\n",
    "fov =int(merfish.fov_ids[100])\n",
    "# padding in pixel to add to the image boarder\n",
    "padding = 150"
   ]
  },
  {
   "cell_type": "code",
   "execution_count": null,
   "id": "6eeb7fa4",
   "metadata": {
    "ExecuteTime": {
     "end_time": "2022-08-02T08:02:44.947549Z",
     "start_time": "2022-08-02T08:02:44.655305Z"
    },
    "execution": {
     "iopub.execute_input": "2022-10-25T04:51:18.789446Z",
     "iopub.status.busy": "2022-10-25T04:51:18.789134Z",
     "iopub.status.idle": "2022-10-25T04:51:19.983601Z",
     "shell.execute_reply": "2022-10-25T04:51:19.982617Z",
     "shell.execute_reply.started": "2022-10-25T04:51:18.789425Z"
    },
    "tags": []
   },
   "outputs": [],
   "source": [
    "# get FOV cell meta\n",
    "cell_meta = merfish.get_cell_metadata(fov=fov)\n",
    "\n",
    "# get FOV cell boundaries\n",
    "boundaries = merfish.get_cell_boundaries(fov=fov)\n",
    "\n",
    "# get FOV transcripts\n",
    "transcripts = merfish.get_transcripts(fov)"
   ]
  },
  {
   "cell_type": "markdown",
   "id": "9c80a8e9",
   "metadata": {
    "tags": []
   },
   "source": [
    "## Transform Coordinates\n",
    "\n",
    "### Four kinds of coordinates and their transformation \n",
    "- Global Pixel\n",
    "- Global Micron\n",
    "- Local Pixel\n",
    "- Local Micron\n",
    "\n",
    "### Transform Helper\n",
    "- get FOV extent: `xmin, ymin, xmax, ymax = merfish.get_fov_pixel_extent_from_transcripts(fov, padding)`\n",
    "- get FOV offset: `offset = (xmin, ymin)`\n",
    "- Global to Local: add FOV offset (xmin, ymin)\n",
    "- Local to Global: minus FOV offset (xmin, ymin)\n",
    "- Micron to Pixel: `merfish.transform.micron_to_pixel_transform`\n",
    "- Pixel to Micron: `merfish.transform.pixel_to_micron_transform`"
   ]
  },
  {
   "cell_type": "code",
   "execution_count": null,
   "id": "1623e631",
   "metadata": {
    "ExecuteTime": {
     "end_time": "2022-08-02T08:02:45.022891Z",
     "start_time": "2022-08-02T08:02:45.006945Z"
    },
    "execution": {
     "iopub.execute_input": "2022-10-25T04:51:19.985172Z",
     "iopub.status.busy": "2022-10-25T04:51:19.984952Z",
     "iopub.status.idle": "2022-10-25T04:51:20.019130Z",
     "shell.execute_reply": "2022-10-25T04:51:20.018413Z",
     "shell.execute_reply.started": "2022-10-25T04:51:19.985139Z"
    },
    "tags": []
   },
   "outputs": [],
   "source": [
    "# coords in file are global microns\n",
    "cell_meta[['center_x', 'center_y']].head()"
   ]
  },
  {
   "cell_type": "code",
   "execution_count": null,
   "id": "f638b9fc",
   "metadata": {
    "ExecuteTime": {
     "end_time": "2022-08-02T08:02:45.038583Z",
     "start_time": "2022-08-02T08:02:45.027565Z"
    },
    "execution": {
     "iopub.execute_input": "2022-10-25T04:51:20.020239Z",
     "iopub.status.busy": "2022-10-25T04:51:20.019953Z",
     "iopub.status.idle": "2022-10-25T04:51:20.033677Z",
     "shell.execute_reply": "2022-10-25T04:51:20.033120Z",
     "shell.execute_reply.started": "2022-10-25T04:51:20.020219Z"
    },
    "tags": []
   },
   "outputs": [],
   "source": [
    "merfish.transform.micron_to_pixel_transform([[280, 2399], [306, 2501]])"
   ]
  },
  {
   "cell_type": "code",
   "execution_count": null,
   "id": "28949197",
   "metadata": {
    "ExecuteTime": {
     "end_time": "2022-08-02T08:02:45.050861Z",
     "start_time": "2022-08-02T08:02:45.042465Z"
    },
    "execution": {
     "iopub.execute_input": "2022-10-25T04:51:20.035332Z",
     "iopub.status.busy": "2022-10-25T04:51:20.035057Z",
     "iopub.status.idle": "2022-10-25T04:51:20.048747Z",
     "shell.execute_reply": "2022-10-25T04:51:20.047982Z",
     "shell.execute_reply.started": "2022-10-25T04:51:20.035313Z"
    },
    "tags": []
   },
   "outputs": [],
   "source": [
    "merfish.transform.pixel_to_micron_transform([[1720, 24564], [1960, 25508]])"
   ]
  },
  {
   "cell_type": "code",
   "execution_count": null,
   "id": "288eff56",
   "metadata": {
    "ExecuteTime": {
     "end_time": "2022-08-02T08:02:45.118945Z",
     "start_time": "2022-08-02T08:02:45.054533Z"
    },
    "execution": {
     "iopub.execute_input": "2022-10-25T04:51:20.049760Z",
     "iopub.status.busy": "2022-10-25T04:51:20.049495Z",
     "iopub.status.idle": "2022-10-25T04:51:20.118878Z",
     "shell.execute_reply": "2022-10-25T04:51:20.118176Z",
     "shell.execute_reply.started": "2022-10-25T04:51:20.049741Z"
    },
    "tags": []
   },
   "outputs": [],
   "source": [
    "# xmin, ymin, xmax, ymax\n",
    "merfish.get_fov_micron_extent_from_transcripts(fov)"
   ]
  },
  {
   "cell_type": "code",
   "execution_count": null,
   "id": "e6e8c1ff",
   "metadata": {
    "ExecuteTime": {
     "end_time": "2022-08-02T08:02:45.132950Z",
     "start_time": "2022-08-02T08:02:45.126319Z"
    },
    "execution": {
     "iopub.execute_input": "2022-10-25T04:51:20.120063Z",
     "iopub.status.busy": "2022-10-25T04:51:20.119774Z",
     "iopub.status.idle": "2022-10-25T04:51:20.124513Z",
     "shell.execute_reply": "2022-10-25T04:51:20.123958Z",
     "shell.execute_reply.started": "2022-10-25T04:51:20.120042Z"
    },
    "tags": []
   },
   "outputs": [],
   "source": [
    "# xmin, ymin, xmax, ymax\n",
    "merfish.get_fov_pixel_extent_from_transcripts(fov, padding)"
   ]
  },
  {
   "cell_type": "markdown",
   "id": "f206e80b",
   "metadata": {},
   "source": [
    "## Make Plots"
   ]
  },
  {
   "cell_type": "markdown",
   "id": "1ea720e9",
   "metadata": {
    "tags": []
   },
   "source": [
    "## More control on images\n",
    "\n",
    "### Plot transcripts"
   ]
  },
  {
   "cell_type": "code",
   "execution_count": null,
   "id": "763403ea-b2f7-493b-be71-d3d6842cf52e",
   "metadata": {
    "execution": {
     "iopub.execute_input": "2022-10-25T04:51:51.535410Z",
     "iopub.status.busy": "2022-10-25T04:51:51.534867Z",
     "iopub.status.idle": "2022-10-25T04:51:51.546272Z",
     "shell.execute_reply": "2022-10-25T04:51:51.545697Z",
     "shell.execute_reply.started": "2022-10-25T04:51:51.535388Z"
    },
    "tags": []
   },
   "outputs": [],
   "source": [
    "transcripts['gene'].value_counts().index[:50]"
   ]
  },
  {
   "cell_type": "code",
   "execution_count": null,
   "id": "ef7d0c54",
   "metadata": {
    "ExecuteTime": {
     "end_time": "2022-08-02T08:02:54.822788Z",
     "start_time": "2022-08-02T08:02:49.132602Z"
    },
    "execution": {
     "iopub.execute_input": "2022-10-25T04:51:57.516074Z",
     "iopub.status.busy": "2022-10-25T04:51:57.515832Z",
     "iopub.status.idle": "2022-10-25T04:52:12.965674Z",
     "shell.execute_reply": "2022-10-25T04:52:12.965054Z",
     "shell.execute_reply.started": "2022-10-25T04:51:57.516055Z"
    },
    "tags": []
   },
   "outputs": [],
   "source": [
    "genes = transcripts['gene'].value_counts().index[:50]\n",
    "\n",
    "fig = merfish.plot_fov(fov=fov, genes=genes, dpi=150)"
   ]
  },
  {
   "cell_type": "markdown",
   "id": "e5b626b0",
   "metadata": {},
   "source": [
    "### plot other smFISH Images"
   ]
  },
  {
   "cell_type": "code",
   "execution_count": null,
   "id": "157e002b",
   "metadata": {
    "ExecuteTime": {
     "end_time": "2022-08-02T08:03:00.856289Z",
     "start_time": "2022-08-02T08:02:54.825542Z"
    },
    "execution": {
     "iopub.execute_input": "2022-10-25T04:52:12.967335Z",
     "iopub.status.busy": "2022-10-25T04:52:12.967008Z",
     "iopub.status.idle": "2022-10-25T04:52:26.715513Z",
     "shell.execute_reply": "2022-10-25T04:52:26.714391Z",
     "shell.execute_reply.started": "2022-10-25T04:52:12.967314Z"
    },
    "tags": []
   },
   "outputs": [],
   "source": [
    "fig, fov_images = merfish.plot_fov(\n",
    "    fov=fov,\n",
    "    plot_boundary=False,\n",
    "    plot_cell_centers=False,\n",
    "    genes=None,\n",
    "    image_names=('PolyT+Snap25+DAPI', 'DAPI', 'PolyT', 'Snap25', 'Mbp'),\n",
    "    padding=padding,\n",
    "    dpi=150\n",
    ")"
   ]
  },
  {
   "cell_type": "code",
   "execution_count": null,
   "id": "35d16397-df48-4659-9469-ea9017516c07",
   "metadata": {
    "execution": {
     "iopub.execute_input": "2022-10-25T05:03:53.170514Z",
     "iopub.status.busy": "2022-10-25T05:03:53.170101Z",
     "iopub.status.idle": "2022-10-25T05:04:08.072191Z",
     "shell.execute_reply": "2022-10-25T05:04:08.071596Z",
     "shell.execute_reply.started": "2022-10-25T05:03:53.170493Z"
    },
    "tags": []
   },
   "outputs": [],
   "source": [
    "fig, fov_images = merfish.plot_fov(\n",
    "    fov=fov,\n",
    "    plot_boundary=True,\n",
    "    plot_cell_centers=False,\n",
    "    genes=None,\n",
    "    image_names=('PolyT+Snap25+DAPI', 'DAPI', 'PolyT', 'Snap25', 'Mbp'),\n",
    "    padding=padding,\n",
    "    dpi=150,\n",
    "    filter = True,\n",
    ")"
   ]
  },
  {
   "cell_type": "code",
   "execution_count": null,
   "id": "e815cd7a-d67b-46ec-bad7-1ac9d91d45b7",
   "metadata": {},
   "outputs": [],
   "source": []
  },
  {
   "cell_type": "code",
   "execution_count": null,
   "id": "9d37ecbd-25c3-42cf-9258-c333e4e8cc46",
   "metadata": {},
   "outputs": [],
   "source": []
  },
  {
   "cell_type": "code",
   "execution_count": null,
   "id": "28cefa58-36bf-46b8-9e69-9366b0a63a9e",
   "metadata": {},
   "outputs": [],
   "source": []
  },
  {
   "cell_type": "code",
   "execution_count": null,
   "id": "7905cca7-301c-4f29-9e38-15203e43038f",
   "metadata": {},
   "outputs": [],
   "source": []
  },
  {
   "cell_type": "code",
   "execution_count": null,
   "id": "1ea87423-1fe1-44bf-aed8-13635f27ee93",
   "metadata": {},
   "outputs": [],
   "source": []
  },
  {
   "cell_type": "code",
   "execution_count": null,
   "id": "a8886e8a-5a56-4487-a81d-f026a8e4e3e0",
   "metadata": {},
   "outputs": [],
   "source": []
  },
  {
   "cell_type": "code",
   "execution_count": null,
   "id": "8bae0a91-6b10-41ed-984f-51afc9d46e05",
   "metadata": {},
   "outputs": [],
   "source": []
  }
 ],
 "metadata": {
  "hide_input": false,
  "kernelspec": {
   "display_name": "Python 3 (ipykernel)",
   "language": "python",
   "name": "python3"
  },
  "language_info": {
   "codemirror_mode": {
    "name": "ipython",
    "version": 3
   },
   "file_extension": ".py",
   "mimetype": "text/x-python",
   "name": "python",
   "nbconvert_exporter": "python",
   "pygments_lexer": "ipython3",
   "version": "3.7.12"
  },
  "toc": {
   "base_numbering": 1,
   "nav_menu": {},
   "number_sections": true,
   "sideBar": true,
   "skip_h1_title": true,
   "title_cell": "Table of Contents",
   "title_sidebar": "Contents",
   "toc_cell": false,
   "toc_position": {},
   "toc_section_display": true,
   "toc_window_display": true
  }
 },
 "nbformat": 4,
 "nbformat_minor": 5
}
