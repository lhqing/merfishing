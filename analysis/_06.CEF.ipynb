{
 "cells": [
  {
   "cell_type": "code",
   "execution_count": null,
   "id": "8764a2f2-74ff-4e60-94ae-8c9bdedca63c",
   "metadata": {
    "execution": {
     "iopub.execute_input": "2022-08-09T23:20:10.848870Z",
     "iopub.status.busy": "2022-08-09T23:20:10.848536Z",
     "iopub.status.idle": "2022-08-09T23:20:10.852023Z",
     "shell.execute_reply": "2022-08-09T23:20:10.851474Z",
     "shell.execute_reply.started": "2022-08-09T23:20:10.848848Z"
    },
    "tags": []
   },
   "outputs": [],
   "source": [
    "import warnings\n",
    "warnings.filterwarnings(\"ignore\")"
   ]
  },
  {
   "cell_type": "code",
   "execution_count": null,
   "id": "7e473b36-7725-4c77-876b-1a200e50c72b",
   "metadata": {
    "execution": {
     "iopub.execute_input": "2022-08-09T23:20:11.174414Z",
     "iopub.status.busy": "2022-08-09T23:20:11.173990Z",
     "iopub.status.idle": "2022-08-09T23:20:11.183579Z",
     "shell.execute_reply": "2022-08-09T23:20:11.182494Z",
     "shell.execute_reply.started": "2022-08-09T23:20:11.174394Z"
    },
    "tags": []
   },
   "outputs": [],
   "source": [
    "import pandas as pd\n",
    "import matplotlib.pyplot as plt\n",
    "import seaborn as sns\n",
    "\n",
    "import numpy as np\n",
    "\n",
    "from ALLCools.clustering import cluster_enriched_features\n",
    "\n",
    "from ALLCools.plot import *\n",
    "import scanpy as sc"
   ]
  },
  {
   "cell_type": "code",
   "execution_count": null,
   "id": "89799f36-bcc3-43c0-970a-2fef960293c4",
   "metadata": {
    "execution": {
     "iopub.execute_input": "2022-08-09T23:20:12.786581Z",
     "iopub.status.busy": "2022-08-09T23:20:12.786297Z",
     "iopub.status.idle": "2022-08-09T23:20:12.790135Z",
     "shell.execute_reply": "2022-08-09T23:20:12.789441Z",
     "shell.execute_reply.started": "2022-08-09T23:20:12.786562Z"
    }
   },
   "outputs": [],
   "source": [
    "data_dir = '/home/qz/hanliu/cemba3c/merfish/202205231554_MouseSagittalM3S1_VMSC01101/output/region_0'"
   ]
  },
  {
   "cell_type": "code",
   "execution_count": null,
   "id": "92b23bf4-9311-48b8-98a5-0a5e70dbcf14",
   "metadata": {
    "execution": {
     "iopub.execute_input": "2022-08-09T23:20:14.695817Z",
     "iopub.status.busy": "2022-08-09T23:20:14.695537Z",
     "iopub.status.idle": "2022-08-09T23:20:14.882584Z",
     "shell.execute_reply": "2022-08-09T23:20:14.881660Z",
     "shell.execute_reply.started": "2022-08-09T23:20:14.695798Z"
    },
    "tags": []
   },
   "outputs": [],
   "source": [
    "adata  = sc.read_h5ad('./adata/0809_pretrained_model_202205231554_MouseSagittalM3S1_VMSC01101_QC.h5ad')\n"
   ]
  },
  {
   "cell_type": "markdown",
   "id": "23489cf7-ec69-47ea-877d-7d164d4c698f",
   "metadata": {
    "jp-MarkdownHeadingCollapsed": true,
    "tags": []
   },
   "source": [
    "# allcools CEF"
   ]
  },
  {
   "cell_type": "code",
   "execution_count": null,
   "id": "10852df7-0dab-4ba1-a4dd-7e615dc328e4",
   "metadata": {
    "execution": {
     "iopub.execute_input": "2022-08-08T19:59:46.952865Z",
     "iopub.status.busy": "2022-08-08T19:59:46.952466Z",
     "iopub.status.idle": "2022-08-08T19:59:49.078050Z",
     "shell.execute_reply": "2022-08-08T19:59:49.077374Z",
     "shell.execute_reply.started": "2022-08-08T19:59:46.952841Z"
    },
    "tags": []
   },
   "outputs": [],
   "source": [
    "cluster_enriched_features(adata,\n",
    "                          cluster_col='leiden',\n",
    "                              top_n=20,\n",
    "                              alpha=0.05,\n",
    "                              stat_plot=True,\n",
    "                              method=\"rna\")"
   ]
  },
  {
   "cell_type": "code",
   "execution_count": null,
   "id": "730da4e5-cf69-431c-9b2b-3a0203153ca2",
   "metadata": {
    "execution": {
     "iopub.execute_input": "2022-08-08T19:59:49.275276Z",
     "iopub.status.busy": "2022-08-08T19:59:49.274830Z",
     "iopub.status.idle": "2022-08-08T19:59:49.280286Z",
     "shell.execute_reply": "2022-08-08T19:59:49.279631Z",
     "shell.execute_reply.started": "2022-08-08T19:59:49.275252Z"
    },
    "tags": []
   },
   "outputs": [],
   "source": [
    "qvals = pd.DataFrame(\n",
    "    adata.uns['leiden_feature_enrichment']['qvals'],\n",
    "    index=adata.var_names,\n",
    "    columns=adata.uns['leiden_feature_enrichment']['cluster_order'])\n",
    "\n",
    "score = pd.DataFrame(\n",
    "    adata.uns['leiden_feature_enrichment']['enrichment'],\n",
    "    index=adata.var_names,\n",
    "    columns=adata.uns['leiden_feature_enrichment']['cluster_order'])"
   ]
  },
  {
   "cell_type": "code",
   "execution_count": null,
   "id": "15c288f9-e7b2-4c17-80f0-aeaaa7141a47",
   "metadata": {
    "execution": {
     "iopub.execute_input": "2022-08-08T20:01:01.666900Z",
     "iopub.status.busy": "2022-08-08T20:01:01.666502Z",
     "iopub.status.idle": "2022-08-08T20:01:01.669790Z",
     "shell.execute_reply": "2022-08-08T20:01:01.669258Z",
     "shell.execute_reply.started": "2022-08-08T20:01:01.666876Z"
    },
    "tags": []
   },
   "outputs": [],
   "source": [
    "# qvals.to_csv('cef_qvals.csv', index = True, header = True)\n",
    "# score.to_csv('cef_score.csv', index = True, header = True)"
   ]
  },
  {
   "cell_type": "code",
   "execution_count": null,
   "id": "c9f09e3d-67e5-46c1-b5c3-e21d74466d9d",
   "metadata": {
    "execution": {
     "iopub.execute_input": "2022-08-08T19:08:17.352355Z",
     "iopub.status.busy": "2022-08-08T19:08:17.351949Z",
     "iopub.status.idle": "2022-08-08T19:08:17.365394Z",
     "shell.execute_reply": "2022-08-08T19:08:17.364797Z",
     "shell.execute_reply.started": "2022-08-08T19:08:17.352331Z"
    },
    "tags": []
   },
   "outputs": [],
   "source": [
    "cluster_list = adata.obs['leiden'].unique().sort_values().to_list()\n",
    "\n",
    "cef_dict = {}\n",
    "n_top = 10\n",
    "\n",
    "for cluster in cluster_list:\n",
    "    cef_dict[cluster] = score[cluster].sort_values(ascending= False)[:n_top]"
   ]
  },
  {
   "cell_type": "code",
   "execution_count": null,
   "id": "ad5ddde6-6c7b-43ff-bf05-2e1f94b8efbf",
   "metadata": {
    "execution": {
     "iopub.execute_input": "2022-08-08T20:01:48.539908Z",
     "iopub.status.busy": "2022-08-08T20:01:48.539438Z",
     "iopub.status.idle": "2022-08-08T20:01:48.545512Z",
     "shell.execute_reply": "2022-08-08T20:01:48.544916Z",
     "shell.execute_reply.started": "2022-08-08T20:01:48.539883Z"
    },
    "tags": []
   },
   "outputs": [],
   "source": [
    "score = score.fillna(0)"
   ]
  },
  {
   "cell_type": "code",
   "execution_count": null,
   "id": "271d8829-455f-44e7-befb-11e094e1850c",
   "metadata": {
    "execution": {
     "iopub.execute_input": "2022-08-08T20:01:49.004020Z",
     "iopub.status.busy": "2022-08-08T20:01:49.003645Z",
     "iopub.status.idle": "2022-08-08T20:01:49.029165Z",
     "shell.execute_reply": "2022-08-08T20:01:49.028633Z",
     "shell.execute_reply.started": "2022-08-08T20:01:49.003998Z"
    },
    "tags": []
   },
   "outputs": [],
   "source": [
    "score"
   ]
  },
  {
   "cell_type": "code",
   "execution_count": null,
   "id": "026db0cd-24a9-43e1-be47-38981afbc0a5",
   "metadata": {
    "execution": {
     "iopub.execute_input": "2022-08-08T18:13:29.998195Z",
     "iopub.status.busy": "2022-08-08T18:13:29.997864Z",
     "iopub.status.idle": "2022-08-08T18:13:30.001774Z",
     "shell.execute_reply": "2022-08-08T18:13:30.001228Z",
     "shell.execute_reply.started": "2022-08-08T18:13:29.998172Z"
    },
    "tags": []
   },
   "outputs": [],
   "source": [
    "all_cef = []\n",
    "for cluster, top_genes in cef_dict.items():\n",
    "    all_cef += top_genes"
   ]
  },
  {
   "cell_type": "code",
   "execution_count": null,
   "id": "d4837d62-6bff-4b73-bb2d-be8618aebbcc",
   "metadata": {
    "execution": {
     "iopub.execute_input": "2022-08-08T18:13:31.174392Z",
     "iopub.status.busy": "2022-08-08T18:13:31.173936Z",
     "iopub.status.idle": "2022-08-08T18:13:31.179913Z",
     "shell.execute_reply": "2022-08-08T18:13:31.179353Z",
     "shell.execute_reply.started": "2022-08-08T18:13:31.174369Z"
    },
    "tags": []
   },
   "outputs": [],
   "source": [
    "genes_freq = pd.DataFrame(index = adata.var_names, data = {'top10_freq':pd.Series(all_cef).value_counts()})\n",
    "genes_freq = genes_freq.fillna(0)"
   ]
  },
  {
   "cell_type": "code",
   "execution_count": null,
   "id": "93efd050-9d5f-4133-91ce-3a6705cb8d27",
   "metadata": {
    "execution": {
     "iopub.execute_input": "2022-08-08T18:13:31.626917Z",
     "iopub.status.busy": "2022-08-08T18:13:31.626490Z",
     "iopub.status.idle": "2022-08-08T18:13:31.636918Z",
     "shell.execute_reply": "2022-08-08T18:13:31.636357Z",
     "shell.execute_reply.started": "2022-08-08T18:13:31.626892Z"
    },
    "tags": []
   },
   "outputs": [],
   "source": [
    "genes_freq[genes_freq['top10_freq'] == 0]"
   ]
  },
  {
   "cell_type": "code",
   "execution_count": null,
   "id": "b5a03f07-2b5a-48d6-a5cb-9549b93dbac7",
   "metadata": {
    "execution": {
     "iopub.execute_input": "2022-08-08T18:13:34.530474Z",
     "iopub.status.busy": "2022-08-08T18:13:34.529947Z",
     "iopub.status.idle": "2022-08-08T18:13:34.535701Z",
     "shell.execute_reply": "2022-08-08T18:13:34.534997Z",
     "shell.execute_reply.started": "2022-08-08T18:13:34.530445Z"
    },
    "tags": []
   },
   "outputs": [],
   "source": [
    "genes_freq.to_csv('top10_CEF.csv', index= True, header= True)"
   ]
  },
  {
   "cell_type": "markdown",
   "id": "b5442c71-43fb-481d-a50d-e9eb844cef44",
   "metadata": {
    "tags": []
   },
   "source": [
    "# scanpy "
   ]
  },
  {
   "cell_type": "code",
   "execution_count": null,
   "id": "25117512-d6b7-441f-a795-b3172b1420ed",
   "metadata": {
    "execution": {
     "iopub.execute_input": "2022-08-09T23:20:22.757537Z",
     "iopub.status.busy": "2022-08-09T23:20:22.757122Z",
     "iopub.status.idle": "2022-08-09T23:20:22.760773Z",
     "shell.execute_reply": "2022-08-09T23:20:22.760213Z",
     "shell.execute_reply.started": "2022-08-09T23:20:22.757515Z"
    },
    "tags": []
   },
   "outputs": [],
   "source": [
    "del adata.uns['log1p']"
   ]
  },
  {
   "cell_type": "code",
   "execution_count": null,
   "id": "690b876e-587c-4aed-9d8e-147372bf01bf",
   "metadata": {
    "execution": {
     "iopub.execute_input": "2022-08-09T23:20:23.107136Z",
     "iopub.status.busy": "2022-08-09T23:20:23.106812Z",
     "iopub.status.idle": "2022-08-09T23:20:36.119351Z",
     "shell.execute_reply": "2022-08-09T23:20:36.118247Z",
     "shell.execute_reply.started": "2022-08-09T23:20:23.107115Z"
    },
    "tags": []
   },
   "outputs": [],
   "source": [
    "sc.tl.rank_genes_groups(adata, 'leiden', method='wilcoxon')"
   ]
  },
  {
   "cell_type": "code",
   "execution_count": null,
   "id": "7ba01c44-22e4-483e-aefa-fb50cc06fbc7",
   "metadata": {
    "execution": {
     "iopub.execute_input": "2022-08-09T23:20:36.121445Z",
     "iopub.status.busy": "2022-08-09T23:20:36.121046Z",
     "iopub.status.idle": "2022-08-09T23:20:36.127576Z",
     "shell.execute_reply": "2022-08-09T23:20:36.127017Z",
     "shell.execute_reply.started": "2022-08-09T23:20:36.121423Z"
    },
    "tags": []
   },
   "outputs": [],
   "source": [
    "sc_top5 =  pd.DataFrame(adata.uns['rank_genes_groups']['names']).head(5)\n",
    "sc_top5.to_csv('./tmp/sc_top5.csv', index = None, header = True)"
   ]
  },
  {
   "cell_type": "code",
   "execution_count": null,
   "id": "bd98dd7e-c1bb-4ce5-be10-6d63485c871e",
   "metadata": {
    "execution": {
     "iopub.execute_input": "2022-08-09T23:20:36.128631Z",
     "iopub.status.busy": "2022-08-09T23:20:36.128350Z",
     "iopub.status.idle": "2022-08-09T23:20:38.881913Z",
     "shell.execute_reply": "2022-08-09T23:20:38.881298Z",
     "shell.execute_reply.started": "2022-08-09T23:20:36.128613Z"
    },
    "tags": []
   },
   "outputs": [],
   "source": [
    "sc.pl.rank_genes_groups(adata, n_genes=5, sharey=False)"
   ]
  },
  {
   "cell_type": "code",
   "execution_count": null,
   "id": "891ce120-2a13-474c-b57d-f801494db1d6",
   "metadata": {},
   "outputs": [],
   "source": []
  },
  {
   "cell_type": "code",
   "execution_count": null,
   "id": "0737719b-74d7-4385-8e63-a0feec3e8a15",
   "metadata": {},
   "outputs": [],
   "source": []
  },
  {
   "cell_type": "code",
   "execution_count": null,
   "id": "38cc4026-4745-4503-9098-5b545fb024bd",
   "metadata": {},
   "outputs": [],
   "source": []
  },
  {
   "cell_type": "code",
   "execution_count": null,
   "id": "82cd3243-6bb0-4a74-a15a-8dadb0f6c273",
   "metadata": {},
   "outputs": [],
   "source": []
  },
  {
   "cell_type": "code",
   "execution_count": null,
   "id": "59e10e4b-848e-4d01-a34f-e69727e953ba",
   "metadata": {},
   "outputs": [],
   "source": []
  },
  {
   "cell_type": "code",
   "execution_count": null,
   "id": "d4e46715-72f7-411c-a4fd-f069b26d2805",
   "metadata": {},
   "outputs": [],
   "source": []
  },
  {
   "cell_type": "code",
   "execution_count": null,
   "id": "df81fe20-1f78-4dff-91a2-1be7cc52fa3b",
   "metadata": {},
   "outputs": [],
   "source": []
  },
  {
   "cell_type": "code",
   "execution_count": null,
   "id": "de481e04-bee0-428a-8fee-0770130e859c",
   "metadata": {},
   "outputs": [],
   "source": []
  },
  {
   "cell_type": "code",
   "execution_count": null,
   "id": "25989d1c-351d-4042-82b4-749e7709ecaa",
   "metadata": {},
   "outputs": [],
   "source": []
  },
  {
   "cell_type": "code",
   "execution_count": null,
   "id": "6a109d5f-d468-47c6-99a6-fec94a2c49e7",
   "metadata": {},
   "outputs": [],
   "source": []
  },
  {
   "cell_type": "code",
   "execution_count": null,
   "id": "4fedacfa-8eea-44bf-b085-d249089b46d9",
   "metadata": {},
   "outputs": [],
   "source": []
  },
  {
   "cell_type": "code",
   "execution_count": null,
   "id": "447e8b6f-09b5-4f0e-9100-dc1a51a6a51e",
   "metadata": {},
   "outputs": [],
   "source": []
  },
  {
   "cell_type": "code",
   "execution_count": null,
   "id": "75aa9054-59e8-4d10-9769-bd199f02d98a",
   "metadata": {},
   "outputs": [],
   "source": []
  },
  {
   "cell_type": "code",
   "execution_count": null,
   "id": "ac9387d2-4965-4f95-b9f7-8dc2dc493607",
   "metadata": {},
   "outputs": [],
   "source": []
  },
  {
   "cell_type": "code",
   "execution_count": null,
   "id": "d1dd23ba-ebe5-42d3-b729-6b29084fcff1",
   "metadata": {},
   "outputs": [],
   "source": []
  }
 ],
 "metadata": {
  "kernelspec": {
   "display_name": "Python 3 (ipykernel)",
   "language": "python",
   "name": "python3"
  },
  "language_info": {
   "codemirror_mode": {
    "name": "ipython",
    "version": 3
   },
   "file_extension": ".py",
   "mimetype": "text/x-python",
   "name": "python",
   "nbconvert_exporter": "python",
   "pygments_lexer": "ipython3",
   "version": "3.7.12"
  }
 },
 "nbformat": 4,
 "nbformat_minor": 5
}
