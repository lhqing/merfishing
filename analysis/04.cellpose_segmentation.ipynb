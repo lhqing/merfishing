{
 "cells": [
  {
   "cell_type": "code",
   "execution_count": null,
   "id": "d34901cc",
   "metadata": {
    "ExecuteTime": {
     "end_time": "2022-08-02T18:11:25.864068Z",
     "start_time": "2022-08-02T18:11:24.549720Z"
    },
    "execution": {
     "iopub.execute_input": "2022-10-25T04:53:11.202924Z",
     "iopub.status.busy": "2022-10-25T04:53:11.202678Z",
     "iopub.status.idle": "2022-10-25T04:53:26.322335Z",
     "shell.execute_reply": "2022-10-25T04:53:26.321543Z",
     "shell.execute_reply.started": "2022-10-25T04:53:11.202874Z"
    },
    "tags": []
   },
   "outputs": [],
   "source": [
    "from merfishing import Merfish\n",
    "import numpy as np\n",
    "from merfishing.tl.cellpose import run_cellpose\n",
    "import pandas as pd\n",
    "import h5py"
   ]
  },
  {
   "cell_type": "markdown",
   "id": "38a07d09",
   "metadata": {},
   "source": [
    "## Entry Point"
   ]
  },
  {
   "cell_type": "code",
   "execution_count": null,
   "id": "79dd6ba0",
   "metadata": {
    "ExecuteTime": {
     "end_time": "2022-08-02T18:10:07.549785Z",
     "start_time": "2022-08-02T18:10:07.537060Z"
    },
    "execution": {
     "iopub.execute_input": "2022-10-25T04:53:26.324394Z",
     "iopub.status.busy": "2022-10-25T04:53:26.323716Z",
     "iopub.status.idle": "2022-10-25T04:53:26.335808Z",
     "shell.execute_reply": "2022-10-25T04:53:26.335207Z",
     "shell.execute_reply.started": "2022-10-25T04:53:26.324368Z"
    },
    "tags": []
   },
   "outputs": [],
   "source": [
    "#merfish = Merfish('dummy_experiment/output/region_0/')\n",
    "merfish = Merfish('./output/region_0')\n"
   ]
  },
  {
   "cell_type": "code",
   "execution_count": null,
   "id": "2c8a96e5-1e23-4169-b86f-0a9be4e7fbaa",
   "metadata": {
    "execution": {
     "iopub.execute_input": "2022-10-25T04:53:26.336909Z",
     "iopub.status.busy": "2022-10-25T04:53:26.336648Z",
     "iopub.status.idle": "2022-10-25T04:53:27.121838Z",
     "shell.execute_reply": "2022-10-25T04:53:27.121174Z",
     "shell.execute_reply.started": "2022-10-25T04:53:26.336890Z"
    },
    "tags": []
   },
   "outputs": [],
   "source": [
    "# field of view id\n",
    "fov =int(merfish.fov_ids[100])\n",
    "# padding in pixel to add to the image boarder\n",
    "padding = 150"
   ]
  },
  {
   "cell_type": "code",
   "execution_count": null,
   "id": "c49caa20-e7d0-48aa-89a4-34a283e32828",
   "metadata": {
    "execution": {
     "iopub.execute_input": "2022-10-25T04:53:27.123442Z",
     "iopub.status.busy": "2022-10-25T04:53:27.123134Z",
     "iopub.status.idle": "2022-10-25T04:53:27.164165Z",
     "shell.execute_reply": "2022-10-25T04:53:27.163584Z",
     "shell.execute_reply.started": "2022-10-25T04:53:27.123422Z"
    },
    "tags": []
   },
   "outputs": [],
   "source": [
    "f = h5py.File('./output/region_0/detected_transcripts.hdf5', 'r')\n",
    "assert len(set([key for key in f.keys()]) ^ set(merfish.fov_ids)) == 0"
   ]
  },
  {
   "cell_type": "markdown",
   "id": "cfc08a4d",
   "metadata": {
    "ExecuteTime": {
     "end_time": "2022-08-01T20:27:45.547706Z",
     "start_time": "2022-08-01T20:27:45.543818Z"
    },
    "tags": []
   },
   "source": [
    "## Run Cellpose"
   ]
  },
  {
   "cell_type": "code",
   "execution_count": null,
   "id": "f5aeb4f8-fbc8-4dbd-a384-358848ba21c4",
   "metadata": {
    "execution": {
     "iopub.execute_input": "2022-09-01T22:59:36.360217Z",
     "iopub.status.busy": "2022-09-01T22:59:36.359977Z",
     "iopub.status.idle": "2022-09-01T22:59:36.362864Z",
     "shell.execute_reply": "2022-09-01T22:59:36.362279Z",
     "shell.execute_reply.started": "2022-09-01T22:59:36.360198Z"
    },
    "tags": []
   },
   "outputs": [],
   "source": [
    "# merfish.cell_segmentation(model_type='nuclei', \n",
    "#                   diameter=100, \n",
    "#                   jobs=5, \n",
    "#                   padding=100,\n",
    "#                   name='++DAPI',\n",
    "#                   verbose=True, \n",
    "#                   redo=False,\n",
    "#                  channels=[[3, 0]],\n",
    "#                   debug =None)"
   ]
  },
  {
   "cell_type": "markdown",
   "id": "46bd5ff9",
   "metadata": {},
   "source": [
    "## Run single cellpose"
   ]
  },
  {
   "cell_type": "code",
   "execution_count": null,
   "id": "2b9f7611-41fd-4725-8d15-0f0be1bbb239",
   "metadata": {
    "execution": {
     "iopub.execute_input": "2022-10-25T04:54:32.664363Z",
     "iopub.status.busy": "2022-10-25T04:54:32.663986Z",
     "iopub.status.idle": "2022-10-25T04:54:36.914842Z",
     "shell.execute_reply": "2022-10-25T04:54:36.913869Z",
     "shell.execute_reply.started": "2022-10-25T04:54:32.664340Z"
    }
   },
   "outputs": [],
   "source": [
    "from merfishing.tl.cellpose import run_cellpose\n",
    "image = merfish.get_rgb_image('PolyT++DAPI', fov=fov, projection=None)"
   ]
  },
  {
   "cell_type": "code",
   "execution_count": null,
   "id": "68d3722d-2884-4320-8f99-116d16d8db6d",
   "metadata": {
    "execution": {
     "iopub.execute_input": "2022-10-25T04:54:36.917522Z",
     "iopub.status.busy": "2022-10-25T04:54:36.916918Z",
     "iopub.status.idle": "2022-10-25T05:03:15.063094Z",
     "shell.execute_reply": "2022-10-25T05:03:15.061733Z",
     "shell.execute_reply.started": "2022-10-25T04:54:36.917495Z"
    },
    "tags": []
   },
   "outputs": [],
   "source": [
    "# PolyT++DAPI means put PolyT in R channel (0) and DAPI in B channel (2)\n",
    "# the image shape is (z, y, z, channel)\n",
    "feature_mask, feature_meta = run_cellpose(image=image,\n",
    "                      model_type='cyto',\n",
    "                      diameter=100,\n",
    "                      gpu=False,\n",
    "                      channels=[[1, 3]],\n",
    "                      channel_axis=3,\n",
    "                      z_axis=0,\n",
    "                      buffer_pixel_size=15,\n",
    "                      plot=True)"
   ]
  },
  {
   "cell_type": "code",
   "execution_count": null,
   "id": "609051de-e0b9-4613-8735-f85b11a0987a",
   "metadata": {
    "execution": {
     "iopub.execute_input": "2022-10-25T05:03:15.065579Z",
     "iopub.status.busy": "2022-10-25T05:03:15.065269Z",
     "iopub.status.idle": "2022-10-25T05:10:29.764745Z",
     "shell.execute_reply": "2022-10-25T05:10:29.763948Z",
     "shell.execute_reply.started": "2022-10-25T05:03:15.065559Z"
    }
   },
   "outputs": [],
   "source": [
    "feature_mask, feature_meta = run_cellpose(image=image,\n",
    "                                          pretrained_model_path = '/home/qz/project/merfish/hq_merfish/example/model/CP_20220803_144056',\n",
    "                                          model_type='cyto',\n",
    "                                          diameter=100,\n",
    "                                          gpu=False,\n",
    "                                          channels=[[1, 3]],\n",
    "                                          channel_axis=3,\n",
    "                                          z_axis=0,\n",
    "                                          buffer_pixel_size=15,\n",
    "                                          plot=True)"
   ]
  },
  {
   "cell_type": "code",
   "execution_count": null,
   "id": "4221bb20-89de-404b-b654-4968c4d603a6",
   "metadata": {
    "execution": {
     "iopub.execute_input": "2022-10-25T05:11:39.748849Z",
     "iopub.status.busy": "2022-10-25T05:11:39.747980Z",
     "iopub.status.idle": "2022-10-25T05:21:51.276475Z",
     "shell.execute_reply": "2022-10-25T05:21:51.275826Z",
     "shell.execute_reply.started": "2022-10-25T05:11:39.748818Z"
    }
   },
   "outputs": [],
   "source": [
    "# the image shape is (z, y, z, channel)\n",
    "image = merfish.get_rgb_image('++DAPI', fov=fov, projection=None)\n",
    "feature_mask, feature_meta = run_cellpose(image=image,\n",
    "                      model_type='nuclei',\n",
    "                      diameter=100,\n",
    "                      gpu=False,\n",
    "                      channels=[[3, 0]],\n",
    "                      channel_axis=3,\n",
    "                      z_axis=0,\n",
    "                      buffer_pixel_size=15,\n",
    "                      plot=True)"
   ]
  },
  {
   "cell_type": "markdown",
   "id": "56022b32",
   "metadata": {
    "jp-MarkdownHeadingCollapsed": true,
    "tags": []
   },
   "source": [
    "## Reopen Merfish Entry Point\n",
    "\n",
    "Cellpose based segmentation will be used as default automatically"
   ]
  },
  {
   "cell_type": "code",
   "execution_count": null,
   "id": "4e3f9196",
   "metadata": {
    "ExecuteTime": {
     "end_time": "2022-08-02T18:11:27.225175Z",
     "start_time": "2022-08-02T18:11:27.213143Z"
    },
    "execution": {
     "iopub.execute_input": "2022-08-05T05:54:40.182276Z",
     "iopub.status.busy": "2022-08-05T05:54:40.181976Z",
     "iopub.status.idle": "2022-08-05T05:54:40.189268Z",
     "shell.execute_reply": "2022-08-05T05:54:40.188759Z",
     "shell.execute_reply.started": "2022-08-05T05:54:40.182257Z"
    }
   },
   "outputs": [],
   "source": [
    "merfish_new = Merfish('dummy_experiment/output/region_0/')"
   ]
  },
  {
   "cell_type": "code",
   "execution_count": null,
   "id": "818339b8",
   "metadata": {
    "ExecuteTime": {
     "end_time": "2022-08-02T18:11:33.292126Z",
     "start_time": "2022-08-02T18:11:27.620255Z"
    },
    "execution": {
     "iopub.execute_input": "2022-08-05T05:54:40.190218Z",
     "iopub.status.busy": "2022-08-05T05:54:40.189927Z",
     "iopub.status.idle": "2022-08-05T05:54:42.325788Z",
     "shell.execute_reply": "2022-08-05T05:54:42.325240Z",
     "shell.execute_reply.started": "2022-08-05T05:54:40.190194Z"
    }
   },
   "outputs": [],
   "source": [
    "fig = merfish_new.plot_fov(0, dpi=100)"
   ]
  },
  {
   "cell_type": "code",
   "execution_count": null,
   "id": "048693ff",
   "metadata": {
    "ExecuteTime": {
     "end_time": "2022-08-02T18:11:33.304813Z",
     "start_time": "2022-08-02T18:11:33.296219Z"
    },
    "execution": {
     "iopub.execute_input": "2022-08-05T05:54:42.326886Z",
     "iopub.status.busy": "2022-08-05T05:54:42.326563Z",
     "iopub.status.idle": "2022-08-05T05:54:42.332652Z",
     "shell.execute_reply": "2022-08-05T05:54:42.332175Z",
     "shell.execute_reply.started": "2022-08-05T05:54:42.326867Z"
    }
   },
   "outputs": [],
   "source": [
    "merfish_old = Merfish('dummy_experiment/output/region_0/', cell_segmentation='watershed')"
   ]
  },
  {
   "cell_type": "code",
   "execution_count": null,
   "id": "28f30e51",
   "metadata": {
    "ExecuteTime": {
     "end_time": "2022-08-02T18:11:35.426830Z",
     "start_time": "2022-08-02T18:11:33.306612Z"
    },
    "execution": {
     "iopub.execute_input": "2022-08-05T05:54:42.334701Z",
     "iopub.status.busy": "2022-08-05T05:54:42.334412Z",
     "iopub.status.idle": "2022-08-05T05:54:44.286430Z",
     "shell.execute_reply": "2022-08-05T05:54:44.285870Z",
     "shell.execute_reply.started": "2022-08-05T05:54:42.334683Z"
    }
   },
   "outputs": [],
   "source": [
    "fig = merfish_old.plot_fov(0, dpi=100)"
   ]
  },
  {
   "cell_type": "markdown",
   "id": "016d2d51",
   "metadata": {},
   "source": [
    "## Details - Cellpose2\n",
    "\n",
    "Cell segmentation is done by the cellpose2 package with its pretrained model. Each z-plane is run separately, segmenting the PolyT channel with cyto model with the help of DAPI channel indicating nuclei. Please read the cellpose2 package for more details and fine tune the parameter if needed. You can train a custom model to achieve better segmentation results (watch the Youtube video below).\n",
    "\n",
    "- Github: https://github.com/MouseLand/cellpose\n",
    "- Documentation: https://cellpose.readthedocs.io/en/latest/\n",
    "- YouTube Tutorial: https://www.youtube.com/watch?v=5qANHWoubZU\n"
   ]
  },
  {
   "cell_type": "markdown",
   "id": "d7611cd6",
   "metadata": {},
   "source": [
    "## Save TIFF file for Cellpose GUI and retrain the model"
   ]
  },
  {
   "cell_type": "code",
   "execution_count": null,
   "id": "3008f344",
   "metadata": {
    "ExecuteTime": {
     "end_time": "2022-08-02T18:19:25.468987Z",
     "start_time": "2022-08-02T18:19:25.231730Z"
    },
    "execution": {
     "iopub.execute_input": "2022-08-05T05:54:44.287741Z",
     "iopub.status.busy": "2022-08-05T05:54:44.287211Z",
     "iopub.status.idle": "2022-08-05T05:54:44.553730Z",
     "shell.execute_reply": "2022-08-05T05:54:44.553101Z",
     "shell.execute_reply.started": "2022-08-05T05:54:44.287720Z"
    }
   },
   "outputs": [],
   "source": [
    "import tifffile\n",
    "\n",
    "name = 'PolyT++DAPI'  # R+G+B\n",
    "fov = 0  # field of view\n",
    "z = 3  # single z plane\n",
    "\n",
    "img = merfish_new.get_rgb_image(name=name, z=z, fov=fov)\n",
    "\n",
    "tifffile.imwrite(f'{fov}-{z}.tiff', img, compression='ZSTD')"
   ]
  },
  {
   "cell_type": "code",
   "execution_count": null,
   "id": "1befbca6",
   "metadata": {},
   "outputs": [],
   "source": []
  }
 ],
 "metadata": {
  "hide_input": false,
  "kernelspec": {
   "display_name": "Python 3 (ipykernel)",
   "language": "python",
   "name": "python3"
  },
  "language_info": {
   "codemirror_mode": {
    "name": "ipython",
    "version": 3
   },
   "file_extension": ".py",
   "mimetype": "text/x-python",
   "name": "python",
   "nbconvert_exporter": "python",
   "pygments_lexer": "ipython3",
   "version": "3.7.12"
  },
  "toc": {
   "base_numbering": 1,
   "nav_menu": {},
   "number_sections": true,
   "sideBar": true,
   "skip_h1_title": true,
   "title_cell": "Table of Contents",
   "title_sidebar": "Contents",
   "toc_cell": false,
   "toc_position": {},
   "toc_section_display": true,
   "toc_window_display": true
  }
 },
 "nbformat": 4,
 "nbformat_minor": 5
}
