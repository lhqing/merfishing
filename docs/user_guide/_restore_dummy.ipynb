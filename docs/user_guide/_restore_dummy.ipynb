{
 "cells": [
  {
   "cell_type": "markdown",
   "source": [
    "# remove test data execution results"
   ],
   "metadata": {
    "collapsed": false,
    "pycharm": {
     "name": "#%% md\n"
    }
   }
  },
  {
   "cell_type": "code",
   "execution_count": 6,
   "outputs": [],
   "source": [
    "from merfishing import Merfish\n",
    "import shutil\n",
    "import pathlib"
   ],
   "metadata": {
    "collapsed": false,
    "pycharm": {
     "name": "#%%\n"
    }
   }
  },
  {
   "cell_type": "code",
   "execution_count": 4,
   "id": "7812d841",
   "metadata": {
    "ExecuteTime": {
     "end_time": "2022-08-02T18:21:19.435257Z",
     "start_time": "2022-08-02T18:21:19.424857Z"
    },
    "pycharm": {
     "name": "#%%\n"
    }
   },
   "outputs": [
    {
     "name": "stdout",
     "output_type": "stream",
     "text": [
      "MERFISH Experiment Region\n",
      "Region data located at /gale/netapp/cemba3c/merfish/example/dummy_experiment/output/region_0\n",
      "Experiment dir located at /gale/netapp/cemba3c/merfish/example/dummy_experiment\n",
      "Using cellpose results\n"
     ]
    }
   ],
   "source": [
    "merfish = Merfish('dummy_experiment/output/region_0/')"
   ]
  },
  {
   "cell_type": "code",
   "execution_count": 8,
   "id": "913b0e14",
   "metadata": {
    "ExecuteTime": {
     "end_time": "2022-08-02T18:22:13.627817Z",
     "start_time": "2022-08-02T18:22:13.624303Z"
    },
    "pycharm": {
     "name": "#%%\n"
    }
   },
   "outputs": [],
   "source": [
    "try:\n",
    "    merfish._cellpose_cell_metadata_path.unlink(missing_ok=True)\n",
    "except BaseException:\n",
    "    pass\n",
    "try:\n",
    "    merfish._cellpose_cell_by_gene_path.unlink(missing_ok=True)\n",
    "except BaseException:\n",
    "    pass\n",
    "try:\n",
    "    shutil.rmtree(merfish._cellpose_cell_mask_path, ignore_errors=True)\n",
    "except BaseException:\n",
    "    pass"
   ]
  },
  {
   "cell_type": "code",
   "execution_count": 10,
   "id": "f8ca733b",
   "metadata": {
    "ExecuteTime": {
     "end_time": "2022-08-02T18:22:39.201530Z",
     "start_time": "2022-08-02T18:22:39.196973Z"
    },
    "pycharm": {
     "name": "#%%\n"
    }
   },
   "outputs": [],
   "source": [
    "(merfish.experiment_dir / 'dummy_experiment.tar.gz').unlink(missing_ok=True)"
   ]
  },
  {
   "cell_type": "code",
   "execution_count": 12,
   "id": "39f842c5",
   "metadata": {
    "ExecuteTime": {
     "end_time": "2022-08-02T18:22:57.609686Z",
     "start_time": "2022-08-02T18:22:57.604303Z"
    },
    "pycharm": {
     "name": "#%%\n"
    }
   },
   "outputs": [],
   "source": [
    "merfish.transcripts_path.unlink(missing_ok=True)"
   ]
  },
  {
   "cell_type": "code",
   "execution_count": 13,
   "id": "c5612a37",
   "metadata": {
    "ExecuteTime": {
     "end_time": "2022-08-02T18:23:05.972887Z",
     "start_time": "2022-08-02T18:23:05.965734Z"
    },
    "pycharm": {
     "name": "#%%\n"
    }
   },
   "outputs": [],
   "source": [
    "merfish.smfish_transcripts_path.unlink(missing_ok=True)"
   ]
  },
  {
   "cell_type": "code",
   "execution_count": null,
   "id": "78285cd4",
   "metadata": {
    "pycharm": {
     "name": "#%%\n"
    }
   },
   "outputs": [],
   "source": [
    "for p in pathlib.Path('').glob('*.tiff'):\n",
    "    p.unlink(missing_ok=True)"
   ]
  },
  {
   "cell_type": "code",
   "execution_count": null,
   "id": "7f4a26b0",
   "metadata": {
    "pycharm": {
     "name": "#%%\n"
    }
   },
   "outputs": [],
   "source": []
  },
  {
   "cell_type": "code",
   "execution_count": null,
   "id": "898c7972",
   "metadata": {
    "pycharm": {
     "name": "#%%\n"
    }
   },
   "outputs": [],
   "source": []
  },
  {
   "cell_type": "code",
   "execution_count": null,
   "id": "00cc3656",
   "metadata": {
    "pycharm": {
     "name": "#%%\n"
    }
   },
   "outputs": [],
   "source": []
  },
  {
   "cell_type": "code",
   "execution_count": null,
   "id": "9aa3c274",
   "metadata": {
    "pycharm": {
     "name": "#%%\n"
    }
   },
   "outputs": [],
   "source": []
  }
 ],
 "metadata": {
  "hide_input": false,
  "kernelspec": {
   "display_name": "Python 3 (ipykernel)",
   "language": "python",
   "name": "python3"
  },
  "language_info": {
   "codemirror_mode": {
    "name": "ipython",
    "version": 3
   },
   "file_extension": ".py",
   "mimetype": "text/x-python",
   "name": "python",
   "nbconvert_exporter": "python",
   "pygments_lexer": "ipython3",
   "version": "3.8.13"
  },
  "toc": {
   "base_numbering": 1,
   "nav_menu": {},
   "number_sections": true,
   "sideBar": true,
   "skip_h1_title": true,
   "title_cell": "Table of Contents",
   "title_sidebar": "Contents",
   "toc_cell": false,
   "toc_position": {},
   "toc_section_display": true,
   "toc_window_display": true
  }
 },
 "nbformat": 4,
 "nbformat_minor": 5
}
